{
 "cells": [
  {
   "cell_type": "markdown",
   "id": "89e58251-d64e-4b8c-a0a3-6fc32bca5e23",
   "metadata": {
    "tags": []
   },
   "source": [
    "#String questions:-"
   ]
  },
  {
   "cell_type": "code",
   "execution_count": null,
   "id": "a64af2cd-7610-46ef-a2e5-b8a41ee2432d",
   "metadata": {},
   "outputs": [],
   "source": [
    "#Q1.reverse a string\n",
    "a=\" hello pw\"\n",
    "print(a[::-1]) "
   ]
  },
  {
   "cell_type": "code",
   "execution_count": 2,
   "id": "79fcfea1-4506-49f8-b153-71fb77c95201",
   "metadata": {},
   "outputs": [
    {
     "name": "stdout",
     "output_type": "stream",
     "text": [
      "False\n",
      "True\n"
     ]
    }
   ],
   "source": [
    "#Q2. CHECK PALINDROME\n",
    "a=\"It's Ayush\"\n",
    "b=a[::-1]\n",
    "if(a==b):\n",
    "    print(\"True\")\n",
    "else:\n",
    "    print(\"False\")\n",
    "    \n",
    "c=\"lol\"\n",
    "d=c[::-1]\n",
    "if(c==d):\n",
    "    print(\"True\")\n",
    "else:\n",
    "    print(\"False\")   "
   ]
  },
  {
   "cell_type": "code",
   "execution_count": 4,
   "id": "ab1fc137-c236-4225-818c-9136c35a397a",
   "metadata": {},
   "outputs": [
    {
     "name": "stdout",
     "output_type": "stream",
     "text": [
      "I WANT A JOB\n"
     ]
    }
   ],
   "source": [
    "#Q3. string to uppercase\n",
    "a=\"i want a job\"\n",
    "print(a.upper())"
   ]
  },
  {
   "cell_type": "code",
   "execution_count": 5,
   "id": "823a2699-66ea-48a0-ba5c-69bbf7988721",
   "metadata": {},
   "outputs": [
    {
     "name": "stdout",
     "output_type": "stream",
     "text": [
      "i have got a job\n"
     ]
    }
   ],
   "source": [
    "#Q4. string to lowercase\n",
    "a=\"I Have Got A Job\"\n",
    "print(a.lower())\n"
   ]
  },
  {
   "cell_type": "code",
   "execution_count": 1,
   "id": "cbcead74-347b-4db7-8bd8-bb094d713268",
   "metadata": {},
   "outputs": [
    {
     "name": "stdout",
     "output_type": "stream",
     "text": [
      "7\n"
     ]
    }
   ],
   "source": [
    "#Q5. count vowels\n",
    "a=\"I am drinking coffee\"\n",
    "b= \"aeiouAEIOU\"\n",
    "c=sum(a.count(vowel) for vowel in b)\n",
    "print(c)\n"
   ]
  },
  {
   "cell_type": "code",
   "execution_count": 1,
   "id": "304023d7-82c2-446c-9ea4-18172c6d9921",
   "metadata": {},
   "outputs": [
    {
     "name": "stdout",
     "output_type": "stream",
     "text": [
      "Numbers of consonants are:\n",
      " 10\n"
     ]
    }
   ],
   "source": [
    "#Q6.count consonants\n",
    "a=\"It took me an hour to learn & understand this method🥴\"\n",
    "vowel=0\n",
    "consonants=0\n",
    "for i in range(0,len(a)):\n",
    "    if(a[i] !=\" \"):\n",
    "        if(a[i]=='a'or a[i]=='e' or a[i]=='i' or a[i]=='o' or a[i]=='u'\n",
    "           or a[i]=='A'or a[i]=='E' or a[i]=='I' or a[i]=='O' or a[i]=='U'):\n",
    "            vowel+=1\n",
    "    else:\n",
    "        consonants=consonants+1\n",
    "print(\"Numbers of consonants are:\\n\", consonants)\n"
   ]
  },
  {
   "cell_type": "code",
   "execution_count": 3,
   "id": "d7e9fba2-b85d-4497-b48b-4cd9649a260b",
   "metadata": {},
   "outputs": [
    {
     "name": "stdout",
     "output_type": "stream",
     "text": [
      "removewhitespacesfromthisstring\n"
     ]
    }
   ],
   "source": [
    "#Q7.Remove all the whitespaces\n",
    "a=\" remove whitespaces from this string\"\n",
    "b= a.replace(\" \",\"\")\n",
    "print(b)"
   ]
  },
  {
   "cell_type": "code",
   "execution_count": 6,
   "id": "f9583995-8b5c-4015-8f14-ab205966843d",
   "metadata": {},
   "outputs": [
    {
     "name": "stdout",
     "output_type": "stream",
     "text": [
      "Length of a is:\n",
      "16\n"
     ]
    }
   ],
   "source": [
    "#Q8. Find length without using len() function.\n",
    "a=\"My name is Ayush\"\n",
    "count=0\n",
    "for x in a:\n",
    "      count+=1\n",
    "print(\"Length of a is:\")\n",
    "print(count)"
   ]
  },
  {
   "cell_type": "code",
   "execution_count": 13,
   "id": "3f2d5881-4356-41fd-8fea-db95e63dba5d",
   "metadata": {},
   "outputs": [
    {
     "data": {
      "text/plain": [
       "16"
      ]
     },
     "execution_count": 13,
     "metadata": {},
     "output_type": "execute_result"
    }
   ],
   "source": [
    "# Q9.Check if a string contains a specific word.\n",
    "a=\"Hey, how are you?\"\n",
    "a.find('?')"
   ]
  },
  {
   "cell_type": "code",
   "execution_count": 14,
   "id": "f43d85ba-d231-4410-95f9-a33e90b6e7e1",
   "metadata": {},
   "outputs": [
    {
     "data": {
      "text/plain": [
       "' i am loving it'"
      ]
     },
     "execution_count": 14,
     "metadata": {},
     "output_type": "execute_result"
    }
   ],
   "source": [
    "#Q10.Replace a word in a string with another word.\n",
    "a= \" i am lovin it\"\n",
    "a.replace(\"lovin\",\"loving\")\n"
   ]
  },
  {
   "cell_type": "code",
   "execution_count": 15,
   "id": "443e5a4c-2a15-403d-aa17-cbf2ffccf496",
   "metadata": {},
   "outputs": [
    {
     "data": {
      "text/plain": [
       "3"
      ]
     },
     "execution_count": 15,
     "metadata": {},
     "output_type": "execute_result"
    }
   ],
   "source": [
    "#Q11. Count the occurrences of a word in a string.\n",
    "a=\"Happy Teacher's day\"\n",
    "a.count('a')"
   ]
  },
  {
   "cell_type": "code",
   "execution_count": 16,
   "id": "2f25bc7f-35a4-43f7-a14a-af3f01098bdf",
   "metadata": {},
   "outputs": [
    {
     "data": {
      "text/plain": [
       "13"
      ]
     },
     "execution_count": 16,
     "metadata": {},
     "output_type": "execute_result"
    }
   ],
   "source": [
    "#Q12. Find the first occurrence of a word in a string.\n",
    "a=\"Limiting the limits shows limits of limited thoughts\"\n",
    "a.index('limits')"
   ]
  },
  {
   "cell_type": "code",
   "execution_count": 23,
   "id": "4b795a93-7c58-4f9f-8a62-9890bc718b08",
   "metadata": {},
   "outputs": [
    {
     "data": {
      "text/plain": [
       "26"
      ]
     },
     "execution_count": 23,
     "metadata": {},
     "output_type": "execute_result"
    }
   ],
   "source": [
    "#Q13. Find the last occurrence of a word in a string.\n",
    "a=\"Limiting the limits shows limits of limited thoughts\"\n",
    "a.rfind('limits') #learnt this from google"
   ]
  },
  {
   "cell_type": "code",
   "execution_count": 30,
   "id": "23082a6e-eadb-4a89-ad43-71e0a0d08ff5",
   "metadata": {},
   "outputs": [
    {
     "name": "stdout",
     "output_type": "stream",
     "text": [
      "['lets', 'split', 'this', 'up']\n",
      "<class 'list'>\n"
     ]
    }
   ],
   "source": [
    "#Q14. Split a string into a list of words.\n",
    "a=\"lets split this up\"\n",
    "b=a.split(\" \")\n",
    "print(b)\n",
    "print(type(b))\n",
    "\n"
   ]
  },
  {
   "cell_type": "code",
   "execution_count": 33,
   "id": "fedbcc93-1abd-43b7-ad31-7d2f60747323",
   "metadata": {},
   "outputs": [
    {
     "name": "stdout",
     "output_type": "stream",
     "text": [
      "lets split this up\n",
      "<class 'str'>\n"
     ]
    }
   ],
   "source": [
    "#Q15.Join a list of words into a string.\n",
    "a= ['lets', 'split', 'this', 'up']\n",
    "b=str(\" \".join(a))\n",
    "print(b)\n",
    "print(type(b))\n"
   ]
  },
  {
   "cell_type": "code",
   "execution_count": 35,
   "id": "35c1d460-0e61-4375-a3d4-837163509654",
   "metadata": {},
   "outputs": [
    {
     "name": "stdout",
     "output_type": "stream",
     "text": [
      "this_assignment_is_very_useful\n"
     ]
    }
   ],
   "source": [
    "#Q16. Convert a string where words are separated by spaces to one where words\n",
    "# are separated by underscores.\n",
    "a=\"this assignment is very useful\"\n",
    "b= a.replace(\" \",\"_\")\n",
    "print(b)\n",
    "\n"
   ]
  },
  {
   "cell_type": "code",
   "execution_count": 36,
   "id": "c922c141-5ec4-4a34-9b13-1cd3d4920cfe",
   "metadata": {},
   "outputs": [
    {
     "name": "stdout",
     "output_type": "stream",
     "text": [
      "True\n"
     ]
    }
   ],
   "source": [
    "#Q17. Check if a string starts with a specific word or phrase.\n",
    "a=\"These question are not ending🥱\"\n",
    "print(a.startswith(\"These\"))\n"
   ]
  },
  {
   "cell_type": "code",
   "execution_count": 37,
   "id": "af6422fd-f9a0-4e1f-99eb-59a369fb525e",
   "metadata": {},
   "outputs": [
    {
     "name": "stdout",
     "output_type": "stream",
     "text": [
      "True\n"
     ]
    }
   ],
   "source": [
    "#Q18. Check if a string ends with a specific word or phrase.\n",
    "a=\"Anyways Solving these questions is fun\"\n",
    "print(a.endswith(\"fun\"))"
   ]
  },
  {
   "cell_type": "code",
   "execution_count": 38,
   "id": "57e686f0-0dc0-47e0-ba99-2ae3717f2950",
   "metadata": {},
   "outputs": [
    {
     "data": {
      "text/plain": [
       "' I Tried So Hard And Got So Far..'"
      ]
     },
     "execution_count": 38,
     "metadata": {},
     "output_type": "execute_result"
    }
   ],
   "source": [
    "#Q19. Convert a string to title case (e.g., \"hello world\" to \"Hello World\").\n",
    "a=\" I tried so hard and got so far..\"\n",
    "a.title()"
   ]
  },
  {
   "cell_type": "code",
   "execution_count": 11,
   "id": "6eafa19f-b7c8-48d5-9e8c-9a8326879c1c",
   "metadata": {},
   "outputs": [
    {
     "name": "stdout",
     "output_type": "stream",
     "text": [
      "Longest word is: google\n"
     ]
    }
   ],
   "source": [
    "#Q20. Find the longest word in a string.\n",
    "a=\"I have to google this\"\n",
    "def longest_word(a):\n",
    "    b = a.split()\n",
    "    longest_word = 'x'\n",
    "    \n",
    "    for i in b:\n",
    "        if len(i) > len(longest_word):\n",
    "            longest_word = i\n",
    "    \n",
    "    return longest_word\n",
    "result=longest_word(a)\n",
    "print(\"Longest word is:\", result)\n",
    "    "
   ]
  },
  {
   "cell_type": "code",
   "execution_count": 2,
   "id": "74863fe6-d0fa-43f8-aa2e-4b44ad1c3009",
   "metadata": {},
   "outputs": [
    {
     "name": "stdout",
     "output_type": "stream",
     "text": [
      "shortest word is: I\n"
     ]
    }
   ],
   "source": [
    "#Q21. Find the shortest word in a string.\n",
    "a=\"Am I learning lot of different methods.\"\n",
    "def shortest_word(a):\n",
    "    b = a.split()\n",
    "    shortest_word = b[0]\n",
    "    \n",
    "    for i in b:\n",
    "        if len(i) < len(shortest_word):\n",
    "            shortest_word = i\n",
    "    \n",
    "    return shortest_word\n",
    "result=shortest_word(a)\n",
    "print(\"shortest word is:\", result) "
   ]
  },
  {
   "cell_type": "code",
   "execution_count": 4,
   "id": "6116ba08-ea92-49db-b1d6-28f306ec9b36",
   "metadata": {},
   "outputs": [
    {
     "name": "stdout",
     "output_type": "stream",
     "text": [
      "mp11:11 sti\n"
     ]
    }
   ],
   "source": [
    "#Q22. Reverse order of words.\n",
    "a=\"its 11:11pm\"\n",
    "print(a[::-1])"
   ]
  },
  {
   "cell_type": "code",
   "execution_count": 4,
   "id": "554b5f69-77e3-45b0-ad69-1c4724843858",
   "metadata": {},
   "outputs": [
    {
     "data": {
      "text/plain": [
       "False"
      ]
     },
     "execution_count": 4,
     "metadata": {},
     "output_type": "execute_result"
    }
   ],
   "source": [
    "#Q23. Check if a string is alphanumeric.\n",
    "a=\"i just made 1 uttapam\"\n",
    "a.isalnum()"
   ]
  },
  {
   "cell_type": "code",
   "execution_count": 5,
   "id": "0992b2cc-82d2-4061-b9de-f53433031258",
   "metadata": {},
   "outputs": [
    {
     "name": "stdout",
     "output_type": "stream",
     "text": [
      "1\n",
      "2\n",
      "3\n",
      "4\n"
     ]
    }
   ],
   "source": [
    "#Q24. Extract all digits from a string.\n",
    "a=\" 1 mango 2 apple 3 orange 4 banana\"\n",
    "for i in a:\n",
    "    if i .isdigit():\n",
    "        print(i)\n",
    "\n",
    "# digits = [char for char in a if char.isdigit()] #cheers for chatgpt \n",
    "# print(digits)"
   ]
  },
  {
   "cell_type": "code",
   "execution_count": 9,
   "id": "868a8b3b-c230-45ec-a80f-b4318d002bca",
   "metadata": {},
   "outputs": [
    {
     "name": "stdout",
     "output_type": "stream",
     "text": [
      "['l', 'e', 'a', 'r', 'n', 'i', 'n', 'g', 'a', 'l', 'o', 't', 'o', 'f', 't', 'h', 'i', 'n', 'g', 's', 'f', 'r', 'o', 'm', 'c', 'h', 'a', 't', 'g', 'p', 't']\n",
      "learningalotofthingsfromchatgpt\n"
     ]
    }
   ],
   "source": [
    "#Q25. Extract all alphabets from a string.\n",
    "a=\" 1learning 2a 3lot 4of 5things 6from 7chatgpt\" \n",
    "alpha= [i for i in a if i.isalpha()]\n",
    "print(alpha)\n",
    "print(\"\".join(alpha))"
   ]
  },
  {
   "cell_type": "code",
   "execution_count": 40,
   "id": "c39f56fc-f948-40a7-bad8-03080d978928",
   "metadata": {},
   "outputs": [
    {
     "name": "stdout",
     "output_type": "stream",
     "text": [
      "['I', 'I', 'M', 'O']\n"
     ]
    }
   ],
   "source": [
    "#Q26. Count the number of uppercase letters in a string.\n",
    "a=\"I think I can do this on My Own\"\n",
    "upper=[i for i in a if i.isupper()]\n",
    "print(upper)"
   ]
  },
  {
   "cell_type": "code",
   "execution_count": 42,
   "id": "d902f0c3-0192-4a78-9e4c-43531cca5940",
   "metadata": {},
   "outputs": [
    {
     "name": "stdout",
     "output_type": "stream",
     "text": [
      "['o', 'w', 'h', 'a', 'v', 'e', 'e', 'a', 'r', 'n', 't', 'h', 'i', 's', 'h', 'a', 'r', 'e', 't', 'h', 'o', 'd']\n"
     ]
    }
   ],
   "source": [
    "#Q27. Count the number of lowercase letters in a string.\n",
    "a= \"Now I have Learnt This Char Method\"\n",
    "lower= [i for i in a if i.islower()]\n",
    "print(lower)"
   ]
  },
  {
   "cell_type": "code",
   "execution_count": 2,
   "id": "0893aca2-9fa4-4867-93ab-b1dbf77d4086",
   "metadata": {},
   "outputs": [
    {
     "data": {
      "text/plain": [
       "' i DIDNT EVEN UNDERSTAND THE MEANING OF THIS QUESTION🤐'"
      ]
     },
     "execution_count": 2,
     "metadata": {},
     "output_type": "execute_result"
    }
   ],
   "source": [
    "#Q28.Swap the case of each character in a string.\n",
    "a=\" I didnt even understand the meaning of this question🤐\"\n",
    "b= a.swapcase()\n",
    "#ya now i understood, its lower and uppercase"
   ]
  },
  {
   "cell_type": "code",
   "execution_count": 10,
   "id": "5d02501c-1a7f-4d9f-9030-a98883b2ae44",
   "metadata": {},
   "outputs": [
    {
     "data": {
      "text/plain": [
       "'use remove functon  thnk'"
      ]
     },
     "execution_count": 10,
     "metadata": {},
     "output_type": "execute_result"
    }
   ],
   "source": [
    "#Q29. Remove a specific word from a string.\n",
    "a=\"use remove function i think\"\n",
    "a.replace('i','')"
   ]
  },
  {
   "cell_type": "code",
   "execution_count": 2,
   "id": "4284ab5a-78a0-4f4c-9e59-bb6b6d5ac6e8",
   "metadata": {},
   "outputs": [
    {
     "name": "stdout",
     "output_type": "stream",
     "text": [
      "ayush.bruno21@gmail.com is a valid email address.\n"
     ]
    }
   ],
   "source": [
    "#Q30. Check if a string is a valid email address.\n",
    "import re\n",
    "email = \"ayush.bruno21@gmail.com\"\n",
    "def is_valid_email(email):\n",
    "    pattern = r'^[\\w\\.-]+@[\\w\\.-]+\\.\\w+$'\n",
    "    \n",
    "    if re.match(pattern, email):\n",
    "        return True\n",
    "    else:\n",
    "        return False\n",
    "    \n",
    "if is_valid_email(email):\n",
    "    print(f\"{email} is a valid email address.\")\n",
    "else:\n",
    "    print(f\"{email} is not a valid email address.\")\n",
    "\n",
    "#Q31. Extract the username from an email address string.\n",
    "#Q32. Extract the domain name from an email address string.\n",
    "# understand this program and do it again\n"
   ]
  },
  {
   "cell_type": "code",
   "execution_count": 22,
   "id": "eab7ee23-b1b3-41b8-b5c1-6ad3e9e6a117",
   "metadata": {},
   "outputs": [
    {
     "data": {
      "text/plain": [
       "'hello wo rld'"
      ]
     },
     "execution_count": 22,
     "metadata": {},
     "output_type": "execute_result"
    }
   ],
   "source": [
    "#Q33.Replace multiple spaces in a string with a single space.\n",
    "a= \"hello   wo   rld\"\n",
    "a.replace(\"   \",\" \")"
   ]
  },
  {
   "cell_type": "code",
   "execution_count": null,
   "id": "5d2582d7-382a-4f4b-818d-b700dcd0ed8e",
   "metadata": {},
   "outputs": [],
   "source": [
    "# 34. Check if a string is a valid URL.\n",
    "# 35. Extract the protocol (http or https) from a URL string.\n",
    "#too hard to understand for me right now.\n"
   ]
  },
  {
   "cell_type": "code",
   "execution_count": 9,
   "id": "c44772a2-dc8e-4925-b0df-5cedcd2c0363",
   "metadata": {},
   "outputs": [],
   "source": [
    "#Q36. Find the frequency of each character in a string.\n",
    "# text = input(\"Enter a string: \")\n",
    "\n",
    "# char_frequency = []\n",
    "\n",
    "# # Calculate character frequencies\n",
    "# for char in text:\n",
    "#     if char.isalpha():  # Only consider alphabetic characters\n",
    "#         char = char.lower()  # Convert to lowercase for case-insensitive counting\n",
    "#         char_frequency[char] += char_frequency.append(i) \n",
    "\n",
    "# # Print character frequencies\n",
    "# print(\"Character frequencies:\")\n",
    "# for char, frequency in char_frequency.items():\n",
    "#     print(f\"'{char}': {frequency}\")\n",
    "# unable to understand\n"
   ]
  },
  {
   "cell_type": "code",
   "execution_count": null,
   "id": "ae7c372b-88fd-49b2-80aa-88c62a860d77",
   "metadata": {},
   "outputs": [],
   "source": [
    "#Q37. Remove all punctuation from a string.\n",
    "a= \" hello,-world\"\n",
    "a.maketrans\n",
    "#again unable to understand the method to solve this\"\n"
   ]
  },
  {
   "cell_type": "code",
   "execution_count": 9,
   "id": "ff334784-403b-44fc-b4b1-b3c70409e631",
   "metadata": {},
   "outputs": [
    {
     "name": "stdout",
     "output_type": "stream",
     "text": [
      "6\n",
      "['1', '2', '3', '4', '5', '6']\n"
     ]
    }
   ],
   "source": [
    "#Q38.Check if a string contains only digits.\n",
    "a=\"123456\"\n",
    "digits=[char for char in a if char.isdigit()]\n",
    "b=len(a)\n",
    "print(b)\n",
    "print(digits)\n",
    "#length of string and length of all the digits is same\"\n"
   ]
  },
  {
   "cell_type": "code",
   "execution_count": 10,
   "id": "5a089735-e12d-4fd6-9ed6-90d55499105f",
   "metadata": {},
   "outputs": [
    {
     "name": "stdout",
     "output_type": "stream",
     "text": [
      "29\n",
      "['I', 'a', 'm', 'm', 'u', 'c', 'h', 'f', 'e', 'e', 'l', 'i', 'n', 'g', 's', 'l', 'e', 'e', 'p', 'y']\n"
     ]
    }
   ],
   "source": [
    "#Q39. Check if a string contains only alphabets.\n",
    "a=\" I am 2 much feeling 2 sleepy\"\n",
    "alpha=[char for char in a if char.isalpha()]\n",
    "b=len(a)\n",
    "print(b)\n",
    "print(alpha)\n",
    "#as the length of a and alpha is not same then this string doesnt contains only alphabets."
   ]
  },
  {
   "cell_type": "code",
   "execution_count": 17,
   "id": "b9aeb520-4126-46d7-bf9e-ec02e0339e52",
   "metadata": {},
   "outputs": [
    {
     "name": "stdout",
     "output_type": "stream",
     "text": [
      "['i', 'n', ' ', 'a', ' ', 's', 't', 'o', 'r', 'm', ' ', 'o', 'f', ' ', 't', 'o', 'u', 'g', 'h', ' ', 'q', 'u', 'e', 's', 't', 'i', 'o', 'n', 's', ' ', 'h', 'o', 'w', ' ', 't', 'h', 'i', 's', ' ', 'c', 'a', 'm', 'e', ' ', 'i', 'n', ' ', 'b', '/', 'w']\n"
     ]
    }
   ],
   "source": [
    "#Q40.Convert a string to a list of characters.\n",
    "a=\"in a storm of tough questions how this came in b/w\"\n",
    "b=list(a)\n",
    "print(b)\n"
   ]
  },
  {
   "cell_type": "code",
   "execution_count": 6,
   "id": "1b64752d-1e2d-43e8-9b29-e4e698114c11",
   "metadata": {},
   "outputs": [
    {
     "name": "stdout",
     "output_type": "stream",
     "text": [
      "String are not anagrams\n"
     ]
    }
   ],
   "source": [
    "#Q41.Check if two strings are anagrams.\n",
    "a=\"ape\"\n",
    "b=\"Pea\"\n",
    "if (sorted(a)==sorted(b)):\n",
    "    print('Strings are anagrams')\n",
    "else:\n",
    "    print('String are not anagrams')"
   ]
  },
  {
   "cell_type": "code",
   "execution_count": null,
   "id": "fbce7f14-970f-4416-8019-e1cf5061b72f",
   "metadata": {},
   "outputs": [],
   "source": [
    "#Q42. Encode a string using a Caesar cipher.\n",
    "#Q43. Decode a Caesar cipher encoded string.\n",
    "#out of range rn.\n"
   ]
  },
  {
   "cell_type": "code",
   "execution_count": 76,
   "id": "2b632334-6397-4630-a71a-a407749d9d95",
   "metadata": {},
   "outputs": [],
   "source": [
    "#Q44.Find the most frequent word in a string.\n",
    "a=\"happy is celebrating happy birthday happily\"\n",
    "for i in a:\n",
    "    if i*2==i:\n",
    "        print(\"most frequent word is:\" , i )\n",
    "    #do this later"
   ]
  },
  {
   "cell_type": "code",
   "execution_count": null,
   "id": "2f412043-1607-4e0b-b4d0-920f94965b80",
   "metadata": {},
   "outputs": [],
   "source": [
    "# Q45\n",
    "# Q46\n",
    "# Q47\n",
    "# Q48\n",
    "# Q49\n",
    "# Q50\n",
    "SKIP FOR NOW"
   ]
  },
  {
   "cell_type": "code",
   "execution_count": null,
   "id": "ec5fe978-3167-470e-a99e-9842aa8e9939",
   "metadata": {},
   "outputs": [],
   "source": [
    "LIST BASED QUESTIONS---"
   ]
  },
  {
   "cell_type": "code",
   "execution_count": 19,
   "id": "16a0f1c1-a1aa-40cd-8152-aceb45427dbf",
   "metadata": {},
   "outputs": [
    {
     "data": {
      "text/plain": [
       "[1, 2, 3, 4, 5, 6, 7, 8, 9, 10]"
      ]
     },
     "execution_count": 19,
     "metadata": {},
     "output_type": "execute_result"
    }
   ],
   "source": [
    "#Q1.Create a list with integers from 1 to 10.\n",
    "L1=[]\n",
    "for i in range(1,11):\n",
    "    L1.append(int(i))\n",
    "L1   "
   ]
  },
  {
   "cell_type": "code",
   "execution_count": 4,
   "id": "30d9132c-cb56-49a2-a511-f1642fdead77",
   "metadata": {},
   "outputs": [
    {
     "name": "stdout",
     "output_type": "stream",
     "text": [
      "Length of a is:\n",
      "10\n"
     ]
    }
   ],
   "source": [
    "#Q2.Find the length of a list without using the `len()` function.\n",
    "a=[1,2,3,4,5,6,7,8,9,9,]\n",
    "count=0\n",
    "for x in a:\n",
    "      count+=1\n",
    "print(\"Length of a is:\")\n",
    "print(count)"
   ]
  },
  {
   "cell_type": "code",
   "execution_count": 12,
   "id": "28871249-c520-4da2-a8e9-ab4de1d0942d",
   "metadata": {},
   "outputs": [
    {
     "data": {
      "text/plain": [
       "[1, 2, 3, 4, 5, 6, 7, 8, 9, 9, 10]"
      ]
     },
     "execution_count": 12,
     "metadata": {},
     "output_type": "execute_result"
    }
   ],
   "source": [
    "#Q3. Append an element to the end of a list.\n",
    "a=[1,2,3,4,5,6,7,8,9,9,]\n",
    "a.append(10)\n",
    "a"
   ]
  },
  {
   "cell_type": "code",
   "execution_count": 14,
   "id": "390fbb67-f239-4c5d-9c34-3a1ae99126a9",
   "metadata": {},
   "outputs": [
    {
     "data": {
      "text/plain": [
       "[1, 2, 3, 4, 14, 5, 6, 7, 8, 9, 9]"
      ]
     },
     "execution_count": 14,
     "metadata": {},
     "output_type": "execute_result"
    }
   ],
   "source": [
    "#Q4.Insert an element at a specific index in a list.\n",
    "a=[1,2,3,4,5,6,7,8,9,9,]\n",
    "a.insert(4,14) #inserting 14 at 4th index.\n",
    "a"
   ]
  },
  {
   "cell_type": "code",
   "execution_count": 16,
   "id": "a9067481-319f-4643-9f4d-054818bc4b14",
   "metadata": {},
   "outputs": [
    {
     "data": {
      "text/plain": [
       "[1, 2, 3, 4, 5, 6, 7, 8, 10]"
      ]
     },
     "execution_count": 16,
     "metadata": {},
     "output_type": "execute_result"
    }
   ],
   "source": [
    "#Q5.Remove an element from a list by its value.\n",
    "a=[1,2,3,4,5,6,7,8,9,10]\n",
    "a.remove(9)\n",
    "a"
   ]
  },
  {
   "cell_type": "code",
   "execution_count": 17,
   "id": "ed3a8ded-33d0-4c4a-9027-c2cdadd7a576",
   "metadata": {},
   "outputs": [
    {
     "data": {
      "text/plain": [
       "[1, 2, 3, 4, 5, 6, 7, 8, 9]"
      ]
     },
     "execution_count": 17,
     "metadata": {},
     "output_type": "execute_result"
    }
   ],
   "source": [
    "# Q6. Remove an element from a list by its index.\n",
    "a=[1,2,3,4,5,6,7,8,9,10]\n",
    "a.pop(9) #removed 10 as it was at 9th index in list\n",
    "a\n"
   ]
  },
  {
   "cell_type": "code",
   "execution_count": 44,
   "id": "3c1b01db-3fb7-44a0-9c1f-0871fb745737",
   "metadata": {},
   "outputs": [
    {
     "name": "stdout",
     "output_type": "stream",
     "text": [
      "element is present\n"
     ]
    }
   ],
   "source": [
    "#Q7. Check if an element exists in a list.\n",
    "a=[1,2,3,4,5,6,7,8,9,10]\n",
    "element= 7\n",
    "if element in a:\n",
    "    print('element is present')\n",
    "else:\n",
    "        print( 'element is not present')\n",
    "    "
   ]
  },
  {
   "cell_type": "code",
   "execution_count": 42,
   "id": "a085a3c2-5495-4073-9e29-c6a710c6e76b",
   "metadata": {},
   "outputs": [
    {
     "name": "stdout",
     "output_type": "stream",
     "text": [
      "first occurence of 4 is: 3\n"
     ]
    }
   ],
   "source": [
    "#Q8. Find the index of the first occurrence of an element in a list.\n",
    "a=[1,2,3,4,5,6,7,4,8,9,10]\n",
    "b=a.index(4)\n",
    "print('first occurence of 4 is:' , b)\n",
    "\n"
   ]
  },
  {
   "cell_type": "code",
   "execution_count": 45,
   "id": "a7eea376-354c-4b1d-b820-9ae71f775bbe",
   "metadata": {},
   "outputs": [
    {
     "data": {
      "text/plain": [
       "2"
      ]
     },
     "execution_count": 45,
     "metadata": {},
     "output_type": "execute_result"
    }
   ],
   "source": [
    "#Q9.Count the occurrences of an element in a list.\n",
    "a=[1,2,3,4,5,6,7,4,8,9,10]\n",
    "a.count(4)"
   ]
  },
  {
   "cell_type": "code",
   "execution_count": 55,
   "id": "7cb55285-1bf5-4124-8f8d-cd2107410ad5",
   "metadata": {},
   "outputs": [
    {
     "data": {
      "text/plain": [
       "[10, 9, 8, 4, 7, 6, 5, 4, 3, 2, 1]"
      ]
     },
     "execution_count": 55,
     "metadata": {},
     "output_type": "execute_result"
    }
   ],
   "source": [
    "#Q10. Reverse the order of elements in a list.\n",
    "a=[1,2,3,4,5,6,7,4,8,9,10]\n",
    "a.reverse()\n",
    "a  \n",
    "      # OR\n",
    "# b=a[::-1]\n",
    "# print(b)"
   ]
  },
  {
   "cell_type": "code",
   "execution_count": 61,
   "id": "54a26bb6-04a9-406c-af11-e78a3db49e89",
   "metadata": {},
   "outputs": [
    {
     "name": "stdout",
     "output_type": "stream",
     "text": [
      "[1, 3, 4, 4, 5, 6, 7, 8, 9, 10]\n"
     ]
    }
   ],
   "source": [
    "#Q11.Sort a list in ascending order.\n",
    "a=[5,6,4,7,3,4,8,1,9,10]\n",
    "b= sorted(a)\n",
    "\n",
    "print(b)  \n"
   ]
  },
  {
   "cell_type": "code",
   "execution_count": 73,
   "id": "f5a98a30-9323-408e-911a-e1865d57d83e",
   "metadata": {},
   "outputs": [
    {
     "data": {
      "text/plain": [
       "[10, 9, 8, 7, 6, 5, 4, 4, 3, 1]"
      ]
     },
     "execution_count": 73,
     "metadata": {},
     "output_type": "execute_result"
    }
   ],
   "source": [
    "#Q12. Sort a list in descending order.\n",
    "a=[5,6,4,7,3,4,8,1,9,10]\n",
    "a.sort(reverse=True)\n",
    "a"
   ]
  },
  {
   "cell_type": "code",
   "execution_count": 78,
   "id": "b1b02bd0-40ed-4d4d-a347-d585604a87ac",
   "metadata": {},
   "outputs": [
    {
     "data": {
      "text/plain": [
       "[2, 4, 6, 8, 10, 12, 14, 16, 18, 20]"
      ]
     },
     "execution_count": 78,
     "metadata": {},
     "output_type": "execute_result"
    }
   ],
   "source": [
    "#Q13. Create a list of even numbers from 1 to 20.\n",
    "l1= [x for x in range (2,21,2)]\n",
    "l1"
   ]
  },
  {
   "cell_type": "code",
   "execution_count": 81,
   "id": "0e6a6946-c3f6-4536-8921-bc8aba3bdecb",
   "metadata": {},
   "outputs": [
    {
     "data": {
      "text/plain": [
       "[1, 3, 5, 7, 9, 11, 13, 15, 17, 19]"
      ]
     },
     "execution_count": 81,
     "metadata": {},
     "output_type": "execute_result"
    }
   ],
   "source": [
    "#Q14. Create a list of odd numbers from 1 to 20.\n",
    "l1=[x for x in range (1,20,2)]\n",
    "l1"
   ]
  },
  {
   "cell_type": "code",
   "execution_count": 87,
   "id": "dfecb6d1-9ec1-4aff-902c-c1cdc15e1d05",
   "metadata": {},
   "outputs": [
    {
     "data": {
      "text/plain": [
       "59"
      ]
     },
     "execution_count": 87,
     "metadata": {},
     "output_type": "execute_result"
    }
   ],
   "source": [
    "#Q15.Find the sum of all elements in a list.\n",
    "l1=[1,2,3,4,5,6,7,4,8,9,10]\n",
    "b=sum(l1)\n",
    "b"
   ]
  },
  {
   "cell_type": "code",
   "execution_count": 100,
   "id": "9fdaed9a-82c6-445d-ac70-ca9d3ce6d9e6",
   "metadata": {},
   "outputs": [
    {
     "name": "stdout",
     "output_type": "stream",
     "text": [
      "10\n",
      "The maximum value in the list is: 10\n"
     ]
    }
   ],
   "source": [
    "#Q16.Find the maximum value in a list.\n",
    "l1=[1,2,3,4,5,6,7,4,8,9,10]\n",
    "b = max(l1)\n",
    "print(b)\n",
    "    #OR\n",
    "max_value= l1[0]\n",
    "for X in l1:\n",
    "    if X > max_value:\n",
    "        max_value = X\n",
    "\n",
    "print(\"The maximum value in the list is:\",  max_value)   \n"
   ]
  },
  {
   "cell_type": "code",
   "execution_count": 19,
   "id": "4621ba84-f60f-40ee-857b-139b0e11d48e",
   "metadata": {},
   "outputs": [
    {
     "name": "stdout",
     "output_type": "stream",
     "text": [
      "0\n"
     ]
    }
   ],
   "source": [
    "#Q17. Find the minimum value in a list.\n",
    "l1=[0,1,2,3,4,5,6,7,4,8,9,10]\n",
    "# b= min(l1)\n",
    "# print(b)\n",
    "  #OR\n",
    "min_value=l1[0]\n",
    "for x in l1:\n",
    "    if x < min_value:\n",
    "        min_value=x\n",
    "        print(\"the minimum value in list is:\", min_value)"
   ]
  },
  {
   "cell_type": "code",
   "execution_count": 116,
   "id": "08e6287f-a793-4c7a-a038-10f028789587",
   "metadata": {},
   "outputs": [
    {
     "data": {
      "text/plain": [
       "[1, 4, 9, 16, 25, 36, 49, 64, 81, 100]"
      ]
     },
     "execution_count": 116,
     "metadata": {},
     "output_type": "execute_result"
    }
   ],
   "source": [
    "#Q18. Create a list of squares of numbers from 1 to 10.\n",
    "square_L= [ x**2 for x in range(1,11)]#  **- this denots 'power of' \n",
    "square_L"
   ]
  },
  {
   "cell_type": "code",
   "execution_count": 122,
   "id": "83001835-bfb5-4c61-a8c6-e22ce2905227",
   "metadata": {},
   "outputs": [
    {
     "name": "stdout",
     "output_type": "stream",
     "text": [
      "list of random numbers is: [13, 43, 4, 19, 1]\n"
     ]
    }
   ],
   "source": [
    "#Q19. Create a list of random numbers.\n",
    "import random\n",
    "random_list = [random.randint(1,50) for _ in range(5)] #def 'randint' returns random no. b/w given no.'s including both no.'s.\n",
    "                                                       #leant this from chatgpt\n",
    "print(\"list of random numbers is:\", random_list)\n"
   ]
  },
  {
   "cell_type": "code",
   "execution_count": 127,
   "id": "6e2921d0-a8f8-4e53-8918-45b270de793b",
   "metadata": {},
   "outputs": [
    {
     "data": {
      "text/plain": [
       "[1, 2, 3, 4, 5, 6, 7, 8, 9, 10]"
      ]
     },
     "execution_count": 127,
     "metadata": {},
     "output_type": "execute_result"
    }
   ],
   "source": [
    "#Q20. Remove duplicates from a list.\n",
    " # convert list to sets \n",
    "l1=[1,2,3,4,5,6,7,4,8,9,10]\n",
    "b=list(set(l1))\n",
    "b"
   ]
  },
  {
   "cell_type": "code",
   "execution_count": 141,
   "id": "ea214363-916c-4c54-bf71-355313c0ff23",
   "metadata": {},
   "outputs": [
    {
     "name": "stdout",
     "output_type": "stream",
     "text": [
      "[2, 4, 6, 4, 8, 10]\n",
      "[2, 4, 6, 8, 10]\n"
     ]
    }
   ],
   "source": [
    "#Q21. Find the common elements between two lists.\n",
    "l1=[1,2,3,4,5,6,7,4,8,9,10]\n",
    "l2=[2,4,6,8,10]\n",
    "common= [x for x in l1 if x in l2]\n",
    "print(common)\n",
    " \n",
    "    #OR\n",
    "    \n",
    "l1=[1,2,3,4,5,6,7,4,8,9,10]\n",
    "l2=[2,4,6,8,10]\n",
    "\n",
    "s1 = set(l1)\n",
    "s2 = set(l2)\n",
    "\n",
    "common_elements = list(s1.intersection(s2))\n",
    "\n",
    "print(common_elements)\n",
    "\n",
    "      #since in sets the value is never repeated, thats why the output is diff. but the question is which method to use.\n"
   ]
  },
  {
   "cell_type": "code",
   "execution_count": 143,
   "id": "80aefd6c-3a4d-4b51-adad-277ac2f39add",
   "metadata": {},
   "outputs": [
    {
     "data": {
      "text/plain": [
       "[1, 3, 5, 7, 9]"
      ]
     },
     "execution_count": 143,
     "metadata": {},
     "output_type": "execute_result"
    }
   ],
   "source": [
    "#Q22. Find the difference between two lists.\n",
    "l1=[1,2,3,4,5,6,7,4,8,9,10]\n",
    "l2=[2,4,6,8,10]\n",
    "difference=[x for x in l1 if x not in l2] \n",
    "difference\n",
    "  #OR we can use set1-set2 approach as well."
   ]
  },
  {
   "cell_type": "code",
   "execution_count": 148,
   "id": "125acd3b-b101-4948-bd8b-881d8579380a",
   "metadata": {},
   "outputs": [
    {
     "name": "stdout",
     "output_type": "stream",
     "text": [
      "[1, 2, 3, 4, 5, 6, 7, 4, 8, 9, 10, 2, 4, 6, 8, 10]\n",
      "[1, 2, 2, 3, 4, 4, 4, 5, 6, 6, 7, 8, 8, 9, 10, 10]\n"
     ]
    }
   ],
   "source": [
    "#Q23.Merge two lists.\n",
    "l1=[1,2,3,4,5,6,7,4,8,9,10]\n",
    "l2=[2,4,6,8,10]\n",
    "a=l1+l2 #it appended the l2 in l1\n",
    "print(a)\n",
    "#and\n",
    "a=sorted(l1+l2) # it sorted and merged l1 & l2 sequentially\n",
    "print(a)"
   ]
  },
  {
   "cell_type": "code",
   "execution_count": 151,
   "id": "da14a3ee-ecc0-4a01-b6b6-59d1d654cbe6",
   "metadata": {},
   "outputs": [
    {
     "data": {
      "text/plain": [
       "[2, 4, 6, 8, 10, 12, 14, 8, 16, 18, 20]"
      ]
     },
     "execution_count": 151,
     "metadata": {},
     "output_type": "execute_result"
    }
   ],
   "source": [
    "#Q24. Multiply all elements in a list by 2.\n",
    "l1=[1,2,3,4,5,6,7,4,8,9,10]\n",
    "b=[x*2 for x in l1]\n",
    "b"
   ]
  },
  {
   "cell_type": "code",
   "execution_count": 156,
   "id": "49852d24-eb43-47a3-9d72-a0188ed6d914",
   "metadata": {},
   "outputs": [
    {
     "name": "stdout",
     "output_type": "stream",
     "text": [
      "[1, 3, 5, 7, 9]\n"
     ]
    }
   ],
   "source": [
    "#Q25. Filter out all even numbers from a list.\n",
    "l1=[1,2,3,4,5,6,7,4,8,9,10]\n",
    "a=[x for x in l1 if x %2 !=0] #learnt and understood this from chatgpt\n",
    "print(a)\n"
   ]
  },
  {
   "cell_type": "code",
   "execution_count": 168,
   "id": "9bb01c3e-fe88-4ab8-b5a4-f224302450c0",
   "metadata": {},
   "outputs": [
    {
     "name": "stdout",
     "output_type": "stream",
     "text": [
      "[1, 2, 3, 4]\n"
     ]
    },
    {
     "data": {
      "text/plain": [
       "list"
      ]
     },
     "execution_count": 168,
     "metadata": {},
     "output_type": "execute_result"
    }
   ],
   "source": [
    "#Q26. Convert a list of strings to a list of integers.\n",
    "# a=['ayush','bruno']\n",
    "# b=int(a)\n",
    "# type(b)\n",
    "# if list has alphabets then we cant convert it to list of intergers\n",
    "a=['1','2','3','4']\n",
    "b=[int(x) for x in a]\n",
    "print(b)\n",
    "type(b)"
   ]
  },
  {
   "cell_type": "code",
   "execution_count": 5,
   "id": "26548912-66a5-49e9-a94f-77084589b432",
   "metadata": {},
   "outputs": [
    {
     "name": "stdout",
     "output_type": "stream",
     "text": [
      "<class 'str'>\n"
     ]
    },
    {
     "data": {
      "text/plain": [
       "'[1, 2, 3, 4, 5, 6, 7]'"
      ]
     },
     "execution_count": 5,
     "metadata": {},
     "output_type": "execute_result"
    }
   ],
   "source": [
    "#Q27. Convert a list of integers to a list of strings.\n",
    "a=[1,2,3,4,5,6,7]\n",
    "b=str(a)\n",
    "print(type(b))\n",
    "b"
   ]
  },
  {
   "cell_type": "code",
   "execution_count": 8,
   "id": "64d5337d-60da-4f51-b78a-f1d1792add60",
   "metadata": {},
   "outputs": [
    {
     "name": "stdout",
     "output_type": "stream",
     "text": [
      "[1, 2, 3, 4, 5, 6]\n"
     ]
    }
   ],
   "source": [
    "#Q28.Flatten a nested list.\n",
    "def flatten_list(nested_list):\n",
    "    return [item for sublist in nested_list for item in (flatten_list(sublist) if isinstance(sublist, list) else [sublist])]\n",
    "#here we are using list comprehension and isinstance fx. to check whether the specific object i.e sublist is a part of list.\n",
    "nested_list = [1, [2, [3, 4], 5], 6]\n",
    "flattened = flatten_list(nested_list)\n",
    "print(flattened)\n",
    "# *understand and do this again\n"
   ]
  },
  {
   "cell_type": "code",
   "execution_count": 24,
   "id": "353e27e3-1e1f-4bda-b3e6-82b40e30a7ee",
   "metadata": {},
   "outputs": [
    {
     "name": "stdout",
     "output_type": "stream",
     "text": [
      "[0, 1, 1, 2, 3, 5, 8, 13, 21, 34]\n"
     ]
    }
   ],
   "source": [
    "#Q29.Create a list of the first 10 Fibonacci numbers.\n",
    "def generate_fibonacci_numbers(n):\n",
    "    fibonacci_numbers = [0,1] \n",
    "\n",
    "    while len(fibonacci_numbers) < (n):\n",
    "        next_number = fibonacci_numbers[-1] + fibonacci_numbers[-2]#this is the important line as it is simpy adding-\n",
    "        fibonacci_numbers.append(next_number)                      #last no. & previous to last no., thats how a sequence\n",
    "                                                                   # is happening.\n",
    "\n",
    "    return fibonacci_numbers\n",
    "first10_fibonacci = generate_fibonacci_numbers(10)\n",
    "print(first10_fibonacci)\n",
    "# *have to understand and do this again."
   ]
  },
  {
   "cell_type": "code",
   "execution_count": 18,
   "id": "97bf4d07-ba3d-41c7-9097-ca97c9866401",
   "metadata": {},
   "outputs": [
    {
     "name": "stdout",
     "output_type": "stream",
     "text": [
      "The list is not sorted in ascending order.\n"
     ]
    }
   ],
   "source": [
    "#Q30.Check if a list is sorted.\n",
    "def sorted_ascending(lst):\n",
    "    for i in range(1, len(lst)):\n",
    "        if lst[i] < lst[i - 1]:\n",
    "            return False\n",
    "    return True\n",
    "ascending_list = [3,2,1,4,5,6,7]\n",
    "\n",
    "if sorted_ascending(ascending_list):\n",
    "    print(\"The list is sorted in ascending order.\")\n",
    "else:\n",
    "    print(\"The list is not sorted in ascending order.\")\n",
    "    #UNDERSTAND AND DO THIG AGAIN."
   ]
  },
  {
   "cell_type": "code",
   "execution_count": 13,
   "id": "f5010d61-a1cf-4e66-a6a9-011710062111",
   "metadata": {},
   "outputs": [
    {
     "name": "stdout",
     "output_type": "stream",
     "text": [
      "[3, 4, 5, 1, 2]\n"
     ]
    }
   ],
   "source": [
    "#Q31. Rotate a list to the left by `n` positions.\n",
    "# n= 20\n",
    "# a=list(range(0,n+1))\n",
    "# b=a[::-1]   \n",
    "# b"
   ]
  },
  {
   "cell_type": "code",
   "execution_count": 20,
   "id": "320770de-1a67-4b60-8eac-83296c1dbeca",
   "metadata": {},
   "outputs": [],
   "source": [
    "#Q32.\n",
    "#Q33.Create a list of prime numbers up to 50.\n",
    "#Q34"
   ]
  },
  {
   "cell_type": "code",
   "execution_count": 22,
   "id": "d6bc7442-67dc-440f-93fd-5f6c43340932",
   "metadata": {},
   "outputs": [
    {
     "name": "stdout",
     "output_type": "stream",
     "text": [
      "The second largest number in the list is: 4\n"
     ]
    }
   ],
   "source": [
    "#Q35.FIND THE SECOND LARGEST NUMBER IN LIST.\n",
    "L1 =[1,2,4,3,4,5]\n",
    "L2=set(L1) #TO REMOVE ANY DUPLICATES\n",
    "sort_=sorted(L2)\n",
    "\n",
    "if len(L2) < 2:\n",
    "    print(\"The list should contain at least two numbers.\")\n",
    "else:\n",
    "    second_largest_number = sort_[-2]\n",
    "    print(\"The second largest number in the list is:\", second_largest_number)\n"
   ]
  },
  {
   "cell_type": "code",
   "execution_count": 29,
   "id": "e296b2da-eb6f-4a2f-bb05-e37f3c21a898",
   "metadata": {},
   "outputs": [
    {
     "name": "stdout",
     "output_type": "stream",
     "text": [
      "[1, 4, 9, 16, 25, 36, 49, 64, 81, 100]\n"
     ]
    }
   ],
   "source": [
    "#Q36. Replace every element in a list with its square.\n",
    "a=[1,2,3,4,5,6,7,8,9,10]\n",
    "a_square=[i**2 for i in a] \n",
    "print(a_square)"
   ]
  },
  {
   "cell_type": "code",
   "execution_count": 28,
   "id": "523fc8a9-8c10-4630-a6c6-4c7c7706bda3",
   "metadata": {},
   "outputs": [
    {
     "data": {
      "text/plain": [
       "<function list.index(value, start=0, stop=9223372036854775807, /)>"
      ]
     },
     "execution_count": 28,
     "metadata": {},
     "output_type": "execute_result"
    }
   ],
   "source": [
    "#Q37.Convert a list to a dictionary where list elements become keys and their\n",
    "#indices become values.\n",
    "l1=[1,2,3,4,5,6,7,8,9,10]\n",
    "dict.keys==l1\n",
    "dict.values==l1.index\n",
    "a={dict.keys:dict.values}\n",
    "a\n",
    "l1.index\n",
    "#check this later"
   ]
  },
  {
   "cell_type": "code",
   "execution_count": 56,
   "id": "9277d6c2-c78e-4db3-a8ae-666ad44ba7f0",
   "metadata": {},
   "outputs": [
    {
     "data": {
      "text/plain": [
       "[10, 48, 22, 2, 37]"
      ]
     },
     "execution_count": 56,
     "metadata": {},
     "output_type": "execute_result"
    }
   ],
   "source": [
    "#Q38.Shuffle the elements of a list randomly.\n",
    "import random\n",
    "l1=[2,10,22,37,48]\n",
    "random.shuffle(l1)\n",
    "l1"
   ]
  },
  {
   "cell_type": "code",
   "execution_count": 33,
   "id": "48fb664f-2200-4480-95a1-f0713c71d567",
   "metadata": {},
   "outputs": [
    {
     "name": "stdout",
     "output_type": "stream",
     "text": [
      "first 10 factorial numbers are:\n",
      " [1, 2, 6, 24, 120, 720, 5040, 40320, 362880, 3628800]\n"
     ]
    }
   ],
   "source": [
    "#Q39. Create a list of the first 10 factorial numbers.\n",
    "def fact_(n):\n",
    "    if n==0 or n==1:\n",
    "        return 1\n",
    "    else:\n",
    "        return n*fact_(n-1)\n",
    "       \n",
    "factorial_list=[fact_(n) for n in range(1,11)]\n",
    "print(\"first 10 factorial numbers are:\\n\",factorial_list)"
   ]
  },
  {
   "cell_type": "code",
   "execution_count": 30,
   "id": "8dd0e7a6-91c8-41a9-9762-baa7380965e8",
   "metadata": {},
   "outputs": [
    {
     "name": "stdout",
     "output_type": "stream",
     "text": [
      "common number is: {3}\n"
     ]
    }
   ],
   "source": [
    "#Q40.Check if two lists have at least one element in common.\n",
    "l1=[1,2,3,4,5]\n",
    "l2=[10,20,3,40,50]\n",
    "s1=set(l1)\n",
    "s2=set(l2)\n",
    "print(\"common number is:\", s1.intersection(s2))"
   ]
  },
  {
   "cell_type": "code",
   "execution_count": 61,
   "id": "e4f783cd-46d5-473d-9f3b-42653e2f6042",
   "metadata": {},
   "outputs": [
    {
     "data": {
      "text/plain": [
       "[]"
      ]
     },
     "execution_count": 61,
     "metadata": {},
     "output_type": "execute_result"
    }
   ],
   "source": [
    "#Q41.Remove all elements from a list.\n",
    "l1=[1,2,3,4,5]\n",
    "l1.clear()\n",
    "l1"
   ]
  },
  {
   "cell_type": "code",
   "execution_count": 41,
   "id": "09fa6919-d0eb-4424-952d-d78af0e4fe4c",
   "metadata": {},
   "outputs": [
    {
     "name": "stdout",
     "output_type": "stream",
     "text": [
      "List after replacing negative numbers with 0: [1, 0, 0, 4, 5]\n"
     ]
    }
   ],
   "source": [
    "#Q42.Replace negative numbers in a list with 0.\n",
    "l1=[1,-2,-3,4,5]\n",
    "# str(l2)==(l1)\n",
    "# for i in l2:\n",
    "#     if l2[i]<0:\n",
    "#         l2.replace(\"i\",\"0\")\n",
    "#         print(l2)\n",
    "for i in range(len(l1)):\n",
    "    if l1[i] < 0:\n",
    "        l1[i] = 0\n",
    "\n",
    "print(\"List after replacing negative numbers with 0:\", l1)"
   ]
  },
  {
   "cell_type": "code",
   "execution_count": 5,
   "id": "76c6bd0c-72b9-4add-ba82-2a8266c128f8",
   "metadata": {},
   "outputs": [
    {
     "data": {
      "text/plain": [
       "['a', 'y', 'u', 's', 'h']"
      ]
     },
     "execution_count": 5,
     "metadata": {},
     "output_type": "execute_result"
    }
   ],
   "source": [
    "#Q43.Convert a string into a list of words.\n",
    "a='ayush'\n",
    "b=list(a)\n",
    "b"
   ]
  },
  {
   "cell_type": "code",
   "execution_count": 10,
   "id": "07b157da-1f0c-4a36-8262-22e997d5d600",
   "metadata": {},
   "outputs": [
    {
     "data": {
      "text/plain": [
       "'ayush'"
      ]
     },
     "execution_count": 10,
     "metadata": {},
     "output_type": "execute_result"
    }
   ],
   "source": [
    "#Q44.Convert a list of words into a string.\n",
    "l1=['a', 'y', 'u', 's', 'h']\n",
    "a=\"\".join(l1)\n",
    "a"
   ]
  },
  {
   "cell_type": "code",
   "execution_count": 43,
   "id": "1ad9185c-c36b-4ec2-a703-0efa16f44137",
   "metadata": {},
   "outputs": [
    {
     "name": "stdout",
     "output_type": "stream",
     "text": [
      "[1, 2, 4, 8, 16, 32, 64, 128, 256, 512, 1024, 2048, 4096, 8192, 16384]\n"
     ]
    }
   ],
   "source": [
    "#Q45.Create a list of the first `n` powers of 2.\n",
    "n = 15 #this n can be any value we want to insert\n",
    "sqaured_list= [2**i for i in range(0,n)]\n",
    "\n",
    "print(sqaured_list)\n"
   ]
  },
  {
   "cell_type": "code",
   "execution_count": 4,
   "id": "3131f9f1-2e2e-4722-b26c-808e31ac561d",
   "metadata": {},
   "outputs": [
    {
     "name": "stdout",
     "output_type": "stream",
     "text": [
      "Longest string: watermelon\n"
     ]
    }
   ],
   "source": [
    "#Q46. Find the longest string in a list of strings.\n",
    "a = [\"apple\", \"banana\", \"mango\", \"watermelon\"]\n",
    "\n",
    "longest_string = \"x\"\n",
    "for i in a:\n",
    "    if len(i) > len(longest_string):\n",
    "        longest_string = i\n",
    "\n",
    "print(\"Longest string:\", longest_string)"
   ]
  },
  {
   "cell_type": "code",
   "execution_count": 10,
   "id": "04e50b8c-d3f0-4b4e-8b33-6945784719c7",
   "metadata": {},
   "outputs": [
    {
     "name": "stdout",
     "output_type": "stream",
     "text": [
      "Longest string: apple\n"
     ]
    }
   ],
   "source": [
    "#Q47. Find the shortest string in a list of strings.\n",
    "a = [\"apple\", \"banana\", \"mangoo\", \"watermelon\"]\n",
    "\n",
    "shortest_string = a[0]\n",
    "for i in a:\n",
    "    if len(i) < len(shortest_string):\n",
    "        shortest_string = i\n",
    "\n",
    "print(\"Longest string:\", shortest_string)"
   ]
  },
  {
   "cell_type": "code",
   "execution_count": null,
   "id": "e31a5939-1da4-481c-92db-e88e690f5465",
   "metadata": {},
   "outputs": [],
   "source": [
    "#48.Create a list of the first `n` triangular numbers.\n",
    "#49\n",
    "#ask this"
   ]
  },
  {
   "cell_type": "code",
   "execution_count": 33,
   "id": "acf98de5-c652-40f2-ae34-5a5366746cfb",
   "metadata": {},
   "outputs": [
    {
     "data": {
      "text/plain": [
       "[1, 2, 4, 3, 5]"
      ]
     },
     "execution_count": 33,
     "metadata": {},
     "output_type": "execute_result"
    }
   ],
   "source": [
    "#Q50.Swap two elements in a list by their indices.\n",
    "a=[1,2,3,4,5]\n",
    "# x= a[2]\n",
    "# y= a[3]\n",
    "# x,y==y,x:\n",
    "# print(a)\n",
    "index1= 2\n",
    "index2 = 3\n",
    "\n",
    "a[index1], a[index2] = a[index2], a[index1]\n",
    "a\n"
   ]
  },
  {
   "cell_type": "code",
   "execution_count": null,
   "id": "3af0a465-7e7b-416d-88ba-a221ddd5be88",
   "metadata": {},
   "outputs": [],
   "source": [
    "Q.TUPLE QUESTIONS"
   ]
  },
  {
   "cell_type": "code",
   "execution_count": 34,
   "id": "4bc6a524-3fb1-4a11-80ab-9867f4da44ac",
   "metadata": {},
   "outputs": [
    {
     "name": "stdout",
     "output_type": "stream",
     "text": [
      "<class 'tuple'>\n"
     ]
    }
   ],
   "source": [
    "#Q1.Create a tuple with integers from 1 to 5.\n",
    "a=(1,2,3,4,5)\n",
    "print(type(a))"
   ]
  },
  {
   "cell_type": "code",
   "execution_count": 37,
   "id": "c8e57f09-94be-438b-9b30-1a6ce96ec8ac",
   "metadata": {},
   "outputs": [
    {
     "data": {
      "text/plain": [
       "4"
      ]
     },
     "execution_count": 37,
     "metadata": {},
     "output_type": "execute_result"
    }
   ],
   "source": [
    "#Q2.Access the third element of a tuple.\n",
    "a=(1,2,3,4,5)\n",
    "b=a[3]\n",
    "b"
   ]
  },
  {
   "cell_type": "code",
   "execution_count": 41,
   "id": "c73e6a55-d7ac-48c8-8c63-95f08ed0dae0",
   "metadata": {},
   "outputs": [
    {
     "name": "stdout",
     "output_type": "stream",
     "text": [
      "length of a is: 5\n"
     ]
    }
   ],
   "source": [
    "#Q3. Find the length of a tuple without using the `len()` function.\n",
    "a=(1,2,3,4,5)\n",
    "count=0\n",
    "for x in a :\n",
    "    count +=1\n",
    "print(\"length of a is:\", count)\n"
   ]
  },
  {
   "cell_type": "code",
   "execution_count": 43,
   "id": "04d051e0-2b97-4459-be1d-395805c8a0ee",
   "metadata": {},
   "outputs": [
    {
     "data": {
      "text/plain": [
       "2"
      ]
     },
     "execution_count": 43,
     "metadata": {},
     "output_type": "execute_result"
    }
   ],
   "source": [
    "#Q4. Count the occurrences of an element in a tuple.\n",
    "a=(1,3,2,4,5,3)\n",
    "a.count(3)"
   ]
  },
  {
   "cell_type": "code",
   "execution_count": 44,
   "id": "589dc1b7-f9f0-4d2f-bca3-865a13415433",
   "metadata": {},
   "outputs": [
    {
     "data": {
      "text/plain": [
       "1"
      ]
     },
     "execution_count": 44,
     "metadata": {},
     "output_type": "execute_result"
    }
   ],
   "source": [
    "#Q5.Find the index of the first occurrence of an element in a tuple.\n",
    "a=(1,2,3,4,5,2)\n",
    "a.index(2)"
   ]
  },
  {
   "cell_type": "code",
   "execution_count": 48,
   "id": "97b00469-6d1f-440b-8bf8-1aeac8938e18",
   "metadata": {},
   "outputs": [
    {
     "name": "stdout",
     "output_type": "stream",
     "text": [
      "given element is present\n"
     ]
    }
   ],
   "source": [
    "#Q6. Check if an element exists in a tuple.\n",
    "a=(1,2,3,4,5)\n",
    "i=3\n",
    "if i in a:\n",
    "    print( 'given element is present')\n",
    "else:\n",
    "    print(' given Element is not present')"
   ]
  },
  {
   "cell_type": "code",
   "execution_count": 51,
   "id": "d4ad5b53-af84-4c9b-b570-a41df032d875",
   "metadata": {},
   "outputs": [
    {
     "name": "stdout",
     "output_type": "stream",
     "text": [
      "[1, 2, 3, 4, 5]\n",
      "<class 'list'>\n"
     ]
    }
   ],
   "source": [
    "#Q7. Convert a tuple to a list.\n",
    "a=(1,2,3,4,5)\n",
    "b=list(a)\n",
    "print(b)\n",
    "print(type(b))"
   ]
  },
  {
   "cell_type": "code",
   "execution_count": 53,
   "id": "ed345198-45e1-4d6d-90dc-fb28242276e5",
   "metadata": {},
   "outputs": [
    {
     "name": "stdout",
     "output_type": "stream",
     "text": [
      "(1, 2, 3, 4, 5)\n",
      "<class 'tuple'>\n"
     ]
    }
   ],
   "source": [
    "#Q8. Convert a list to a tuple.\n",
    "l1= [1, 2, 3, 4, 5]\n",
    "a=tuple(l1)\n",
    "print(a)\n",
    "print(type(a))"
   ]
  },
  {
   "cell_type": "code",
   "execution_count": 56,
   "id": "694fdcef-7946-43b9-8b6e-59ad03f8069d",
   "metadata": {},
   "outputs": [
    {
     "name": "stdout",
     "output_type": "stream",
     "text": [
      "var1: 1\n",
      "var2: 2\n",
      "var3: 3\n",
      "<class 'int'>\n"
     ]
    }
   ],
   "source": [
    "#Q9.Unpack the elements of a tuple into variables.\n",
    "a = (1,2,3,4,5)\n",
    "var1,var2,var3,var4,var5= a\n",
    "\n",
    "print(\"var1:\", var1)\n",
    "print(\"var2:\", var2)\n",
    "print(\"var3:\", var3)\n",
    "print(type(var1))\n"
   ]
  },
  {
   "cell_type": "code",
   "execution_count": 10,
   "id": "1497b971-410e-4e39-8acb-07e591e7adb0",
   "metadata": {},
   "outputs": [
    {
     "name": "stdout",
     "output_type": "stream",
     "text": [
      "(2, 4, 6, 8, 10)\n"
     ]
    }
   ],
   "source": [
    "#Q10. Create a tuple of even numbers from 1 to 10.\n",
    "a=()\n",
    "for i in range(1,11):\n",
    "    if i%2==0: \n",
    "        a+=(i,)\n",
    "        # print(a) why it is giving diff. result\n",
    "print(a)\n",
    " \n"
   ]
  },
  {
   "cell_type": "code",
   "execution_count": 14,
   "id": "30c6f9c1-8452-4c8f-9665-90cc5c393238",
   "metadata": {},
   "outputs": [
    {
     "name": "stdout",
     "output_type": "stream",
     "text": [
      "(1, 3, 5, 7, 9)\n"
     ]
    }
   ],
   "source": [
    "#Q11.Create a tuple of odd numbers from 1 to 10.\n",
    "a=()\n",
    "for i in range(1,10):\n",
    "    if i%2 !=0:\n",
    "        a+=(i,)\n",
    "print(a)"
   ]
  },
  {
   "cell_type": "code",
   "execution_count": 20,
   "id": "28f3a26e-d080-4a9a-8c38-345289a8707e",
   "metadata": {},
   "outputs": [
    {
     "name": "stdout",
     "output_type": "stream",
     "text": [
      "concatenated tuple: (1, 2, 3, 4, 5, 'ayush', 'bruno')\n"
     ]
    }
   ],
   "source": [
    "#Q12. Concatenate two tuples.\n",
    "a=(1,2,3,4,5)\n",
    "b=('ayush','bruno')\n",
    "print('concatenated tuple:',a+b)"
   ]
  },
  {
   "cell_type": "code",
   "execution_count": 25,
   "id": "9f942844-7cf5-47a0-a38d-bb6b958ec720",
   "metadata": {},
   "outputs": [
    {
     "name": "stdout",
     "output_type": "stream",
     "text": [
      "(1, 2, 3, 4, 5, 'ayush', 'bruno', 1, 2, 3, 4, 5, 'ayush', 'bruno', 1, 2, 3, 4, 5, 'ayush', 'bruno')\n"
     ]
    }
   ],
   "source": [
    "#Q13. Repeat a tuple three times.\n",
    "a=(1, 2, 3, 4, 5, 'ayush', 'bruno')\n",
    "b=a*3\n",
    "#b #why this is giving diff. result\n",
    "print(b)"
   ]
  },
  {
   "cell_type": "code",
   "execution_count": 46,
   "id": "59b17c14-0b7c-4ce9-8184-ef84364396ce",
   "metadata": {},
   "outputs": [
    {
     "name": "stdout",
     "output_type": "stream",
     "text": [
      "its not empty\n"
     ]
    }
   ],
   "source": [
    "#Q14.Check if a tuple is empty.\n",
    "a=(1,)\n",
    "if not a:\n",
    "    print('yes it is empty')\n",
    "else:\n",
    "    print('its not empty')\n",
    "    "
   ]
  },
  {
   "cell_type": "code",
   "execution_count": 1,
   "id": "189609f2-04bd-4c2c-9bd5-9dc8c13c4aec",
   "metadata": {},
   "outputs": [
    {
     "name": "stdout",
     "output_type": "stream",
     "text": [
      "<class 'tuple'>\n"
     ]
    }
   ],
   "source": [
    "#Q15.Create a nested tuple.\n",
    "a=(1,2,('a',('b','c'),'d'),3,4)\n",
    "print(type(a))"
   ]
  },
  {
   "cell_type": "code",
   "execution_count": 9,
   "id": "97e5b6f0-454e-4b5b-abce-b6a531c3bac5",
   "metadata": {},
   "outputs": [
    {
     "name": "stdout",
     "output_type": "stream",
     "text": [
      "(1, 2)\n"
     ]
    }
   ],
   "source": [
    "#Q16. Access the first element of a nested tuple.\n",
    "a=((1,2),('a',('b','c'),'d'),3,4)\n",
    "print(a[0])"
   ]
  },
  {
   "cell_type": "code",
   "execution_count": 3,
   "id": "8a916c8a-cb5c-465e-9621-8a3ce6398ddb",
   "metadata": {},
   "outputs": [
    {
     "name": "stdout",
     "output_type": "stream",
     "text": [
      "<class 'tuple'>\n"
     ]
    }
   ],
   "source": [
    "#Q17. Create a tuple with a single element.\n",
    "a=(1,)\n",
    "print(type(a))"
   ]
  },
  {
   "cell_type": "code",
   "execution_count": 14,
   "id": "75375242-ed50-4c00-b842-3dddac52f17f",
   "metadata": {},
   "outputs": [
    {
     "name": "stdout",
     "output_type": "stream",
     "text": [
      "a==b: False\n",
      "a!=b: True\n",
      "a>b: False\n",
      "a>=b: False\n",
      "a<b: True\n",
      "a<=b: True\n"
     ]
    }
   ],
   "source": [
    "#Q18. Compare two tuples.\n",
    "a=(1,2,3,4,5)\n",
    "b=(3,'ayush',5,2,10,9)\n",
    "print(\"a==b:\",a== b)  \n",
    "print(\"a!=b:\",a != b)  \n",
    "print(\"a>b:\",a > b)    \n",
    "print(\"a>=b:\",a >= b)  \n",
    "print(\"a<b:\",a < b)    \n",
    "print(\"a<=b:\",a <= b)"
   ]
  },
  {
   "cell_type": "code",
   "execution_count": 16,
   "id": "a00d7b59-0fbe-4483-89f5-bbe1d59fa56a",
   "metadata": {},
   "outputs": [
    {
     "ename": "NameError",
     "evalue": "name 'a' is not defined",
     "output_type": "error",
     "traceback": [
      "\u001b[0;31m---------------------------------------------------------------------------\u001b[0m",
      "\u001b[0;31mNameError\u001b[0m                                 Traceback (most recent call last)",
      "Cell \u001b[0;32mIn[16], line 4\u001b[0m\n\u001b[1;32m      2\u001b[0m a\u001b[38;5;241m=\u001b[39m(\u001b[38;5;241m1\u001b[39m,\u001b[38;5;241m2\u001b[39m,\u001b[38;5;241m3\u001b[39m,\u001b[38;5;241m4\u001b[39m,\u001b[38;5;241m5\u001b[39m)\n\u001b[1;32m      3\u001b[0m \u001b[38;5;28;01mdel\u001b[39;00m a\n\u001b[0;32m----> 4\u001b[0m \u001b[43ma\u001b[49m\n",
      "\u001b[0;31mNameError\u001b[0m: name 'a' is not defined"
     ]
    }
   ],
   "source": [
    "#Q19. Delete a tuple.\n",
    "a=(1,2,3,4,5)\n",
    "del a\n",
    "a"
   ]
  },
  {
   "cell_type": "code",
   "execution_count": 4,
   "id": "a6c58cce-5bb1-45e6-aacd-09cfda69b49a",
   "metadata": {},
   "outputs": [
    {
     "name": "stdout",
     "output_type": "stream",
     "text": [
      "(1, 2)\n"
     ]
    }
   ],
   "source": [
    "#Q20.Slice a tuple.\n",
    "a=(1,2,3,4,5)\n",
    "b=a[0:2]\n",
    "print(b)"
   ]
  },
  {
   "cell_type": "code",
   "execution_count": 17,
   "id": "00030cd1-fd2b-403b-868c-902ee17d6ee7",
   "metadata": {},
   "outputs": [
    {
     "name": "stdout",
     "output_type": "stream",
     "text": [
      "soltitude\n"
     ]
    }
   ],
   "source": [
    "#Q21.Find the maximum value in a tuple.\n",
    "a=('ayush','bruno','food','soltitude')\n",
    "b=max(a)\n",
    "print(b)\n"
   ]
  },
  {
   "cell_type": "code",
   "execution_count": 29,
   "id": "3ebea622-de87-4475-afbf-0eaa002a6e05",
   "metadata": {},
   "outputs": [
    {
     "name": "stdout",
     "output_type": "stream",
     "text": [
      "1\n"
     ]
    }
   ],
   "source": [
    "#Q22. Find the minimum value in a tuple.\n",
    "# a=('bruno','food','soltitude')\n",
    "# b=min(a)\n",
    "# b\n",
    "#it is returning bruno, why?\n",
    "a=(2,1,3,4,5)\n",
    "b=min(a)\n",
    "print(b)"
   ]
  },
  {
   "cell_type": "code",
   "execution_count": 18,
   "id": "9327af2a-027b-46d1-a879-b1fb5dac5e55",
   "metadata": {},
   "outputs": [
    {
     "name": "stdout",
     "output_type": "stream",
     "text": [
      "('h', 'e', 'l', 'l', 'o', ' ', 'w', 'o', 'r', 'l', 'd')\n",
      "<class 'tuple'>\n"
     ]
    }
   ],
   "source": [
    "#Q23.Convert a string to a tuple of characters.\n",
    "# a='ayush' ,'bruno', 'food', 'soltitude'\n",
    "# print(type(a)) why it is a tuple?\n",
    "a='hello world'\n",
    "b=tuple(a)\n",
    "print(b)\n",
    "print(type(b))"
   ]
  },
  {
   "cell_type": "code",
   "execution_count": 24,
   "id": "edcfc3b8-950f-4945-a714-ff4a19ff5eda",
   "metadata": {},
   "outputs": [
    {
     "name": "stdout",
     "output_type": "stream",
     "text": [
      "hello world\n",
      "<class 'str'>\n"
     ]
    }
   ],
   "source": [
    "#Q24.Convert a tuple of characters to a string.\n",
    "a=('h', 'e', 'l', 'l', 'o', ' ', 'w', 'o', 'r', 'l', 'd')\n",
    "b=\"\".join(a)\n",
    "print(b)\n",
    "print(type(b))\n"
   ]
  },
  {
   "cell_type": "code",
   "execution_count": 31,
   "id": "4f6849e0-2ed9-4f1f-8c13-a0b4b1b7b24a",
   "metadata": {},
   "outputs": [
    {
     "name": "stdout",
     "output_type": "stream",
     "text": [
      "<class 'tuple'>\n"
     ]
    },
    {
     "data": {
      "text/plain": [
       "(1, 2, 'ayush', 11.21, (1+2j), True)"
      ]
     },
     "execution_count": 31,
     "metadata": {},
     "output_type": "execute_result"
    }
   ],
   "source": [
    "#Q25. Create a tuple from multiple data types.\n",
    "a= (1,2,'ayush',11.21,1+2j,True)\n",
    "print(type(a))\n",
    "a\n"
   ]
  },
  {
   "cell_type": "code",
   "execution_count": 56,
   "id": "8a639387-1ef8-48df-af34-19ae36668830",
   "metadata": {},
   "outputs": [
    {
     "name": "stdout",
     "output_type": "stream",
     "text": [
      "not identical\n"
     ]
    }
   ],
   "source": [
    "#Q26.Check if two tuples are identical.\n",
    "T1=(1,2,3,4)\n",
    "T2=(1,2,4,3)\n",
    "\n",
    "if T1==T2 :\n",
    "    print('Identical')\n",
    "else:\n",
    "    print('not identical')\n",
    "# why its not working\n",
    "\n"
   ]
  },
  {
   "cell_type": "code",
   "execution_count": 58,
   "id": "04e03bfd-9cf4-4d67-bf7d-6cc92c4dd872",
   "metadata": {},
   "outputs": [
    {
     "data": {
      "text/plain": [
       "(1, 2, 3, 4)"
      ]
     },
     "execution_count": 58,
     "metadata": {},
     "output_type": "execute_result"
    }
   ],
   "source": [
    "#Q27. Sort the elements of a tuple.\n",
    "a=(3,1,2,4)\n",
    "b=tuple(sorted(a))\n",
    "b\n"
   ]
  },
  {
   "cell_type": "code",
   "execution_count": 64,
   "id": "e8792ffd-f5ae-4cc7-a0be-29ce8a3a0782",
   "metadata": {},
   "outputs": [
    {
     "data": {
      "text/plain": [
       "('1', '2', '3', '4')"
      ]
     },
     "execution_count": 64,
     "metadata": {},
     "output_type": "execute_result"
    }
   ],
   "source": [
    "#Q28. Convert a tuple of integers to a tuple of strings.\n",
    "a=1,2,3,4\n",
    "#why this open variable is tuple class\n",
    "b=tuple(str(i) for i in a)\n",
    "b"
   ]
  },
  {
   "cell_type": "code",
   "execution_count": 65,
   "id": "96a5d2e1-d118-451d-9ae2-3f64af44ef05",
   "metadata": {},
   "outputs": [
    {
     "data": {
      "text/plain": [
       "(1, 2, 3, 4)"
      ]
     },
     "execution_count": 65,
     "metadata": {},
     "output_type": "execute_result"
    }
   ],
   "source": [
    "#Q29.Convert a tuple of strings to a tuple of integers.\n",
    "a=('1', '2', '3', '4')\n",
    "b=tuple(int(i) for i in a)\n",
    "b"
   ]
  },
  {
   "cell_type": "code",
   "execution_count": 57,
   "id": "3e8ad2e8-0deb-47d9-8180-b8bf78800f3d",
   "metadata": {},
   "outputs": [
    {
     "name": "stdout",
     "output_type": "stream",
     "text": [
      "(1, 2, 3, 4, 3, 4, 5, 6, 7)\n",
      "[1, 2, 3, 3, 4, 4, 5, 6, 7]\n"
     ]
    }
   ],
   "source": [
    "#Q30.Merge two tuples.\n",
    "#it is same as concatination\n",
    "a=1,2,3,4\n",
    "b=3,4,5,6,7\n",
    "print((a+b))\n",
    "# also\n",
    "print(sorted(a+b))\n"
   ]
  },
  {
   "cell_type": "code",
   "execution_count": null,
   "id": "dbd35248-1ec7-4110-9193-383917c92308",
   "metadata": {},
   "outputs": [],
   "source": [
    "#Q31.Flatten a nested tuple."
   ]
  },
  {
   "cell_type": "code",
   "execution_count": null,
   "id": "35d062ec-9f3b-4bf8-8831-3fd430237e48",
   "metadata": {},
   "outputs": [],
   "source": [
    "#Q32.Create a tuple of the first 5 prime numbers.\n"
   ]
  },
  {
   "cell_type": "code",
   "execution_count": 2,
   "id": "4f957111-3472-4f5f-b5c2-08bb1174fb29",
   "metadata": {},
   "outputs": [
    {
     "name": "stdout",
     "output_type": "stream",
     "text": [
      "Tuple is palindrome\n"
     ]
    }
   ],
   "source": [
    "#Q33.Check if a tuple is a palindrome.\n",
    "a=(1,2,1)\n",
    "b=a[::-1]\n",
    "if b==a:\n",
    "    print(\"Tuple is palindrome\")\n",
    "else:\n",
    "    print(\"Tuple is not palindrome\")"
   ]
  },
  {
   "cell_type": "code",
   "execution_count": 8,
   "id": "2be47ecd-a55b-430c-8845-bda09270c170",
   "metadata": {},
   "outputs": [
    {
     "name": "stdout",
     "output_type": "stream",
     "text": [
      "(1, 4, 9, 16, 25)\n"
     ]
    }
   ],
   "source": [
    "#Q34.Create a tuple of squares of numbers from 1 to 5.\n",
    "a=tuple(x**2 for x in range(1,6))\n",
    "\n",
    "print(a)"
   ]
  },
  {
   "cell_type": "code",
   "execution_count": 33,
   "id": "24b3473d-0dd4-4b3c-bf01-55030835de89",
   "metadata": {},
   "outputs": [
    {
     "name": "stdout",
     "output_type": "stream",
     "text": [
      "filtered tuple: (1, 3, 5, 7)\n"
     ]
    }
   ],
   "source": [
    "#Q35.Filter out all even numbers from a tuple.\n",
    "a=(1,2,3,4,5,6,7,8)\n",
    "b=tuple(x for x in a if x%2!=0)\n",
    "# for i in a:\n",
    "#     if i%2==0:\n",
    "print(\"filtered tuple:\",b)      "
   ]
  },
  {
   "cell_type": "code",
   "execution_count": 41,
   "id": "8137c921-056b-4aeb-b54b-b1178c981639",
   "metadata": {},
   "outputs": [
    {
     "data": {
      "text/plain": [
       "(2, 4, 6, 8, 10)"
      ]
     },
     "execution_count": 41,
     "metadata": {},
     "output_type": "execute_result"
    }
   ],
   "source": [
    "#Q36. Multiply all elements in a tuple by 2.\n",
    "a=(1,2,3,4,5)\n",
    "b=tuple(x*2 for x in a)\n",
    "b"
   ]
  },
  {
   "cell_type": "code",
   "execution_count": 45,
   "id": "7812f526-8f86-44c7-a91c-e83e6b07e8bc",
   "metadata": {},
   "outputs": [
    {
     "name": "stdout",
     "output_type": "stream",
     "text": [
      "Tuple of random numbers: [4, 5, 8, 3, 9]\n"
     ]
    }
   ],
   "source": [
    "#Q37. Create a tuple of random numbers.\n",
    "import random\n",
    "random_tuple=[random.randint(1,10) for _ in range(5)]\n",
    "print(\"Tuple of random numbers:\", random_tuple)"
   ]
  },
  {
   "cell_type": "code",
   "execution_count": 57,
   "id": "99ce8f4f-3066-4bce-9b3d-3b35e8f1eaf4",
   "metadata": {},
   "outputs": [
    {
     "name": "stdout",
     "output_type": "stream",
     "text": [
      "(1, 2, 3, 4, 5)\n",
      "tuple is not sorted\n"
     ]
    }
   ],
   "source": [
    "#Q38.Check if a tuple is sorted.\n",
    "a=(2,3,1,4,5)\n",
    "b=tuple(sorted(a))\n",
    "print(b)\n",
    "if a==b:\n",
    "        print(\"tuple is sorted\")\n",
    "else:\n",
    "        print(\"tuple is not sorted\")"
   ]
  },
  {
   "cell_type": "code",
   "execution_count": null,
   "id": "06686872-6c78-420d-9d28-766a238a14ac",
   "metadata": {},
   "outputs": [],
   "source": [
    "#Q39. Rotate a tuple to the left by `n` positions.\n",
    "#Q40. Rotate a tuple to the right by `n` positions.\n",
    "# unable to understand currently"
   ]
  },
  {
   "cell_type": "code",
   "execution_count": 9,
   "id": "be652812-53a2-40bb-9b40-ae887932e812",
   "metadata": {},
   "outputs": [
    {
     "name": "stdout",
     "output_type": "stream",
     "text": [
      "(0, 1, 1, 2, 3)\n"
     ]
    }
   ],
   "source": [
    "#Q41.Create a tuple of the first 5 Fibonacci numbers.\n",
    "def generate_fibonacci(n):\n",
    "    fibonacci = [0, 1] \n",
    "    while len(fibonacci) < n:  \n",
    "        next_number = fibonacci[-1] + fibonacci[-2]  \n",
    "        fibonacci.append(next_number)  \n",
    "    return tuple(fibonacci)  \n",
    "fibonacci_tuple = generate_fibonacci(5)\n",
    "print(fibonacci_tuple)"
   ]
  },
  {
   "cell_type": "code",
   "execution_count": 19,
   "id": "f565174e-9c59-4883-896e-fc9356121142",
   "metadata": {},
   "outputs": [
    {
     "name": "stdin",
     "output_type": "stream",
     "text": [
      "enter any string: hello!,world\n"
     ]
    },
    {
     "name": "stdout",
     "output_type": "stream",
     "text": [
      "('h', 'e', 'l', 'l', 'o', '!', ',', 'w', 'o', 'r', 'l', 'd')\n",
      "<class 'tuple'>\n"
     ]
    }
   ],
   "source": [
    "#Q42.Create a tuple from user input.\n",
    "a=input('enter any string:')\n",
    "b=tuple(\"\".join(a))\n",
    "print(b)\n",
    "print(type(b))"
   ]
  },
  {
   "cell_type": "code",
   "execution_count": 65,
   "id": "379bfaa4-6fea-42d3-9e90-2dbedbfd6601",
   "metadata": {},
   "outputs": [],
   "source": [
    "# #Q43.Swap two elements in a tuple.\n",
    "a=(1,2,3,4,5)\n",
    "if (a[3],a[2]) == (a[2],a[3]):\n",
    "    print(a)"
   ]
  },
  {
   "cell_type": "code",
   "execution_count": 2,
   "id": "c3f692b8-8a1c-48ac-b6e8-f3632e20aeb6",
   "metadata": {},
   "outputs": [
    {
     "data": {
      "text/plain": [
       "(4, 3, 2, 1)"
      ]
     },
     "execution_count": 2,
     "metadata": {},
     "output_type": "execute_result"
    }
   ],
   "source": [
    "#Q44.Reverse the elements of a tuple.\n",
    "a=(1,2,3,4)\n",
    "b=a[::-1]\n",
    "b"
   ]
  },
  {
   "cell_type": "code",
   "execution_count": 66,
   "id": "c4dc8584-24ef-4dd2-995a-ec19b86f24eb",
   "metadata": {},
   "outputs": [
    {
     "data": {
      "text/plain": [
       "(1, 4, 9, 16, 25, 36, 49, 64, 81)"
      ]
     },
     "execution_count": 66,
     "metadata": {},
     "output_type": "execute_result"
    }
   ],
   "source": [
    "#Q45. Create a tuple of the first `n` powers of 2.\n",
    "n=10\n",
    "new_tuple=tuple(i**2 for i in range(1,n))\n",
    "new_tuple"
   ]
  },
  {
   "cell_type": "code",
   "execution_count": 14,
   "id": "d0ca2a81-a2bd-44e0-a341-6bf52045f307",
   "metadata": {},
   "outputs": [
    {
     "data": {
      "text/plain": [
       "'soltitude'"
      ]
     },
     "execution_count": 14,
     "metadata": {},
     "output_type": "execute_result"
    }
   ],
   "source": [
    "#Q46. Find the longest string in a tuple of strings.\n",
    "a=('ayush','food','soltitude')\n",
    "b=max(a, key=len)\n",
    "b\n",
    "\n",
    "# print(\"Longest string:\", longest_string)\n"
   ]
  },
  {
   "cell_type": "code",
   "execution_count": 15,
   "id": "a8d052cd-1311-47b1-a4d1-c955ab975a9b",
   "metadata": {},
   "outputs": [
    {
     "data": {
      "text/plain": [
       "'food'"
      ]
     },
     "execution_count": 15,
     "metadata": {},
     "output_type": "execute_result"
    }
   ],
   "source": [
    "#Q47. Find the shortest string in a tuple of strings.\n",
    "a=('ayush','food','soltitude')\n",
    "b=min(a, key=len)\n",
    "b"
   ]
  },
  {
   "cell_type": "code",
   "execution_count": null,
   "id": "2b144854-348b-4992-b8db-918a2761a87d",
   "metadata": {},
   "outputs": [],
   "source": [
    "#Q48.\n",
    "# ASK THIS"
   ]
  },
  {
   "cell_type": "code",
   "execution_count": 77,
   "id": "af641632-b018-444a-b841-6c543388d926",
   "metadata": {},
   "outputs": [],
   "source": [
    "#Q49.Check if a tuple contains another tuple as a subsequence.\n",
    "# a=(1,2,3,4,5)\n",
    "# b=(2,3)\n",
    "# for i in a:\n",
    "#     if (i) in b:\n",
    "#         print('yes')\n",
    "#     else:\n",
    "#         print('no')\n"
   ]
  },
  {
   "cell_type": "code",
   "execution_count": 8,
   "id": "ef913330-eecc-462f-ad6f-e9d023bde0c5",
   "metadata": {},
   "outputs": [
    {
     "data": {
      "text/plain": [
       "(0, 1, 0, 1, 0, 1, 0, 1, 0, 1)"
      ]
     },
     "execution_count": 8,
     "metadata": {},
     "output_type": "execute_result"
    }
   ],
   "source": [
    "#Q50. Create a tuple of alternating 1s and 0s of length `n`.\n",
    "n=10\n",
    "alternating_tuple= tuple(i % 2 for i in range(n))\n",
    "alternating_tuple\n"
   ]
  },
  {
   "cell_type": "code",
   "execution_count": null,
   "id": "16169836-6f50-4b4e-9f9a-7710a212a2e5",
   "metadata": {},
   "outputs": [],
   "source": [
    "                                   SET BASED QUESTIONS:-"
   ]
  },
  {
   "cell_type": "code",
   "execution_count": 11,
   "id": "20e3d98b-e78c-4505-ba7b-8f3c9837488b",
   "metadata": {},
   "outputs": [
    {
     "name": "stdout",
     "output_type": "stream",
     "text": [
      "{1, 2, 3, 4, 5}\n",
      "<class 'set'>\n"
     ]
    }
   ],
   "source": [
    "#Q1. Create a set with integers from 1 to 5.\n",
    "a={1,2,3,4,5}\n",
    "print(a)\n",
    "print(type(a))"
   ]
  },
  {
   "cell_type": "code",
   "execution_count": 12,
   "id": "f00a18fb-d302-43bd-98b8-f1d0e1941ec6",
   "metadata": {},
   "outputs": [
    {
     "name": "stdout",
     "output_type": "stream",
     "text": [
      "{1, 2, 3, 4, 5, 7}\n"
     ]
    }
   ],
   "source": [
    "#Q2. Add an element to a set.\n",
    "a={1,2,3,4,5}\n",
    "a.add(7)\n",
    "print(a)"
   ]
  },
  {
   "cell_type": "code",
   "execution_count": 13,
   "id": "2f4c8a9e-1c66-452b-bc57-459483fa2519",
   "metadata": {},
   "outputs": [
    {
     "data": {
      "text/plain": [
       "{1, 2, 4, 5}"
      ]
     },
     "execution_count": 13,
     "metadata": {},
     "output_type": "execute_result"
    }
   ],
   "source": [
    "#Q3. Remove an element from a set.\n",
    "a={1,2,3,4,5}\n",
    "a.remove(3)\n",
    "a"
   ]
  },
  {
   "cell_type": "code",
   "execution_count": 22,
   "id": "a43f7d2f-515b-4b56-a540-09ec13f483dd",
   "metadata": {},
   "outputs": [
    {
     "name": "stdout",
     "output_type": "stream",
     "text": [
      "given element exists in set\n"
     ]
    }
   ],
   "source": [
    "#Q4. Check if an element exists in a set.\n",
    "a={1,2,3,4,5}\n",
    "i=3\n",
    "if i in a:\n",
    "    print('given element exists in set')\n",
    "else:\n",
    "    print('given element does not exists in set')\n",
    "    \n",
    "\n"
   ]
  },
  {
   "cell_type": "code",
   "execution_count": 26,
   "id": "98212095-1d4e-4487-97cb-e5ce2349580a",
   "metadata": {},
   "outputs": [
    {
     "name": "stdout",
     "output_type": "stream",
     "text": [
      "length of set is: 5\n"
     ]
    }
   ],
   "source": [
    "#Q5.Find the length of a set without using the `len()` function.\n",
    "a={1,2,3,4,5}\n",
    "count=0\n",
    "for i in a :\n",
    "    count+=1\n",
    "print('length of set is:', count)\n"
   ]
  },
  {
   "cell_type": "code",
   "execution_count": 28,
   "id": "ac7ed6d5-713a-495e-b5b1-66e87406391b",
   "metadata": {},
   "outputs": [
    {
     "data": {
      "text/plain": [
       "set()"
      ]
     },
     "execution_count": 28,
     "metadata": {},
     "output_type": "execute_result"
    }
   ],
   "source": [
    "#Q6. Clear all elements from a set.\n",
    "a={1,2,3,4,5}\n",
    "a.clear()\n",
    "a"
   ]
  },
  {
   "cell_type": "code",
   "execution_count": 34,
   "id": "92f15f63-72ec-49a3-9f77-abbebad8ccae",
   "metadata": {},
   "outputs": [
    {
     "name": "stdout",
     "output_type": "stream",
     "text": [
      "{2, 4, 6, 8, 10}\n"
     ]
    }
   ],
   "source": [
    "#Q7. Create a set of even numbers from 1 to 10.\n",
    "a=set()\n",
    "for i in range(1, 11):\n",
    "    if i % 2 == 0:\n",
    "        a.add(i)\n",
    "print(a)"
   ]
  },
  {
   "cell_type": "code",
   "execution_count": 35,
   "id": "454d5a27-bb12-4dbd-9996-2e3b9446c40c",
   "metadata": {},
   "outputs": [
    {
     "name": "stdout",
     "output_type": "stream",
     "text": [
      "{1, 3, 5, 7, 9}\n"
     ]
    }
   ],
   "source": [
    "#Q8. Create a set of odd numbers from 1 to 10.\n",
    "a=set()\n",
    "for i in range(1, 10):\n",
    "    if i % 2 != 0:\n",
    "        a.add(i)\n",
    "print(a)"
   ]
  },
  {
   "cell_type": "code",
   "execution_count": 1,
   "id": "f27ba292-f6a2-45c9-9e05-d6d4bc16a781",
   "metadata": {},
   "outputs": [
    {
     "data": {
      "text/plain": [
       "{1, 2, 3, 4, 5, 6, 7}"
      ]
     },
     "execution_count": 1,
     "metadata": {},
     "output_type": "execute_result"
    }
   ],
   "source": [
    "#Q9. Find the union of two sets.\n",
    "a={1,2,3,4,5}\n",
    "b={3,4,5,6,7}\n",
    "a.union(b)"
   ]
  },
  {
   "cell_type": "code",
   "execution_count": 2,
   "id": "6a008b3f-4611-41dd-ab68-01ad05e80d3f",
   "metadata": {},
   "outputs": [
    {
     "data": {
      "text/plain": [
       "{3, 4, 5}"
      ]
     },
     "execution_count": 2,
     "metadata": {},
     "output_type": "execute_result"
    }
   ],
   "source": [
    "#Q10.Find the intersection of two sets.\n",
    "a={1,2,3,4,5}\n",
    "b={3,4,5,6,7}\n",
    "a.intersection(b)"
   ]
  },
  {
   "cell_type": "code",
   "execution_count": 3,
   "id": "6f68c229-f9dd-472f-b20e-e4c8e674c647",
   "metadata": {},
   "outputs": [
    {
     "data": {
      "text/plain": [
       "{1, 2}"
      ]
     },
     "execution_count": 3,
     "metadata": {},
     "output_type": "execute_result"
    }
   ],
   "source": [
    "#Q11. Find the difference between two sets.\n",
    "a={1,2,3,4,5}\n",
    "b={3,4,5,6,7}\n",
    "a.difference(b)"
   ]
  },
  {
   "cell_type": "code",
   "execution_count": 4,
   "id": "6c361051-3b46-402a-8f19-8767b6f9b453",
   "metadata": {},
   "outputs": [
    {
     "data": {
      "text/plain": [
       "False"
      ]
     },
     "execution_count": 4,
     "metadata": {},
     "output_type": "execute_result"
    }
   ],
   "source": [
    "#Q12. Check if a set is a subset of another set.\n",
    "a={1,2,3,4,5}\n",
    "b={3,4,5,6,7}\n",
    "b.issubset(a)"
   ]
  },
  {
   "cell_type": "code",
   "execution_count": 6,
   "id": "02c470e8-c3ea-4b5b-9125-21f6769668ae",
   "metadata": {},
   "outputs": [
    {
     "data": {
      "text/plain": [
       "True"
      ]
     },
     "execution_count": 6,
     "metadata": {},
     "output_type": "execute_result"
    }
   ],
   "source": [
    "#Q13.Check if a set is a superset of another set.\n",
    "a={1,2,3,4,5}\n",
    "b={3,4}\n",
    "a.issuperset(b)"
   ]
  },
  {
   "cell_type": "code",
   "execution_count": 8,
   "id": "ab7c2861-b752-49a8-90bd-15c65b8cb2ab",
   "metadata": {},
   "outputs": [
    {
     "data": {
      "text/plain": [
       "{1, 2, 3, 4}"
      ]
     },
     "execution_count": 8,
     "metadata": {},
     "output_type": "execute_result"
    }
   ],
   "source": [
    "#Q14. Create a set from a list.\n",
    "a=[1,2,3,4]\n",
    "b=set(a)\n",
    "b"
   ]
  },
  {
   "cell_type": "code",
   "execution_count": 9,
   "id": "be9d69e0-29b9-4b09-a37b-b8f40c1104c7",
   "metadata": {},
   "outputs": [
    {
     "data": {
      "text/plain": [
       "[1, 2, 3, 4]"
      ]
     },
     "execution_count": 9,
     "metadata": {},
     "output_type": "execute_result"
    }
   ],
   "source": [
    "#Q15.Convert a set to a list.\n",
    "a={1, 2, 3, 4}\n",
    "b=list(a)\n",
    "b"
   ]
  },
  {
   "cell_type": "code",
   "execution_count": 14,
   "id": "aa54133f-1167-462a-b977-f2e48f1a4fcc",
   "metadata": {},
   "outputs": [
    {
     "data": {
      "text/plain": [
       "{4, 6, 'bruno', 'food'}"
      ]
     },
     "execution_count": 14,
     "metadata": {},
     "output_type": "execute_result"
    }
   ],
   "source": [
    "#Q16. Remove a random element from a set.\n",
    "a={6, 'bruno', 'food',3, 4}\n",
    "a.pop()\n",
    "a"
   ]
  },
  {
   "cell_type": "code",
   "execution_count": 19,
   "id": "12c170a3-b54f-4896-82b3-f88fa725dcb9",
   "metadata": {},
   "outputs": [
    {
     "name": "stdout",
     "output_type": "stream",
     "text": [
      "{1, 3, 4, 5}\n"
     ]
    }
   ],
   "source": [
    "#Q17.Pop an element from a set.\n",
    "import random\n",
    "a={1,2,3,4,5}\n",
    "b=random.choice(list(a))\n",
    "#ask here choices is used fr what'\n",
    "a.remove(b)\n",
    "print(a)"
   ]
  },
  {
   "cell_type": "code",
   "execution_count": 23,
   "id": "18f5c820-f71d-404f-8dcd-3334933a52e8",
   "metadata": {},
   "outputs": [
    {
     "name": "stdout",
     "output_type": "stream",
     "text": [
      "two sets have elements in common\n"
     ]
    }
   ],
   "source": [
    "#Q18. Check if two sets have no elements in common.\n",
    "s1={1,2,3,4,5}\n",
    "s2={4,5,6,7,8}\n",
    "intersected_= s1.intersection(s2)\n",
    "if not intersected_:\n",
    "    print('two sets have no elements in common')\n",
    "else:\n",
    "    print('two sets have elements in common')"
   ]
  },
  {
   "cell_type": "code",
   "execution_count": 3,
   "id": "4079e4fe-d7aa-4ca3-9ad2-83cf04c7cc5e",
   "metadata": {},
   "outputs": [
    {
     "name": "stdout",
     "output_type": "stream",
     "text": [
      "symmetric difference: {1, 2, 3, 6, 7, 8}\n"
     ]
    }
   ],
   "source": [
    "#Q19. Find the symmetric difference between two sets.\n",
    "s1={1,2,3,4,5}\n",
    "s2={4,5,6,7,8}\n",
    "difference= s1^s2\n",
    "print('symmetric difference:', difference)"
   ]
  },
  {
   "cell_type": "code",
   "execution_count": 31,
   "id": "0f84ae9b-e83c-4fe5-aac7-657064904410",
   "metadata": {},
   "outputs": [
    {
     "data": {
      "text/plain": [
       "{1, 2, 3, 4, 5, 6, 7, 8}"
      ]
     },
     "execution_count": 31,
     "metadata": {},
     "output_type": "execute_result"
    }
   ],
   "source": [
    "#Q20.Update a set with elements from another set.\n",
    "s1={1,2,3,4,5}\n",
    "s2={4,5,6,7,8}\n",
    "s1.update(s2)\n",
    "s1\n",
    "\n",
    "# wht is the diff. b/w union and update"
   ]
  },
  {
   "cell_type": "code",
   "execution_count": null,
   "id": "a40bff15-ceb3-4631-8c21-1636e3d9c75d",
   "metadata": {},
   "outputs": [],
   "source": [
    "#Q21. Create a set of the first 5 prime numbers.\n",
    "#understand and do it later"
   ]
  },
  {
   "cell_type": "code",
   "execution_count": 6,
   "id": "f7742e93-2259-4340-8555-4790139c34d3",
   "metadata": {},
   "outputs": [
    {
     "name": "stdout",
     "output_type": "stream",
     "text": [
      "sets are not identical\n"
     ]
    }
   ],
   "source": [
    "#Q22.Check if two sets are identical.\n",
    "s1={1,2,3,4,5}\n",
    "s2={4,5,6,7,8}\n",
    "if s1==s2:\n",
    "    print('sets are identical')\n",
    "else:\n",
    "    print('sets are not identical')"
   ]
  },
  {
   "cell_type": "code",
   "execution_count": 7,
   "id": "b6e1d0a1-7490-47a4-96d9-e3ab5c26662a",
   "metadata": {},
   "outputs": [
    {
     "name": "stdout",
     "output_type": "stream",
     "text": [
      "frozen set: frozenset({1, 2, 3, 4, 5})\n"
     ]
    }
   ],
   "source": [
    "#Q23. Create a frozen set.\n",
    "l1=[1,2,3,4,5]\n",
    "a= frozenset(l1)\n",
    "print('frozen set:', a)\n"
   ]
  },
  {
   "cell_type": "code",
   "execution_count": 8,
   "id": "91f6d842-3150-4733-95c8-43d43dfc96bf",
   "metadata": {},
   "outputs": [
    {
     "data": {
      "text/plain": [
       "False"
      ]
     },
     "execution_count": 8,
     "metadata": {},
     "output_type": "execute_result"
    }
   ],
   "source": [
    "#Q24.Check if a set is disjoint with another set.\n",
    "s1={1,2,3,4,5}\n",
    "s2={4,5,6,7,8}\n",
    "disjoint_=s1.isdisjoint(s2)\n",
    "disjoint_"
   ]
  },
  {
   "cell_type": "code",
   "execution_count": 15,
   "id": "f6733a38-31f8-48b8-8061-41587768cdee",
   "metadata": {},
   "outputs": [
    {
     "name": "stdout",
     "output_type": "stream",
     "text": [
      "squared set:\n",
      " {1, 4, 9, 16, 25}\n"
     ]
    }
   ],
   "source": [
    "#Q25.Create a set of squares of numbers from 1 to 5.\n",
    "a=set()\n",
    "for i in range(1,6):\n",
    "    squares=i**2\n",
    "    a.add(squares)\n",
    "print('squared set:\\n',a)"
   ]
  },
  {
   "cell_type": "code",
   "execution_count": 21,
   "id": "fd934fbd-0da8-4f80-9a16-8708da7fd9d7",
   "metadata": {},
   "outputs": [
    {
     "data": {
      "text/plain": [
       "{1, 3, 5}"
      ]
     },
     "execution_count": 21,
     "metadata": {},
     "output_type": "execute_result"
    }
   ],
   "source": [
    "#Q26.Filter out all even numbers from a set.\n",
    "a={1,2,3,4,5}\n",
    "b=set(x for x in a if x%2!=0)\n",
    "b    "
   ]
  },
  {
   "cell_type": "code",
   "execution_count": 22,
   "id": "e0a71eda-a420-42d8-865f-7003e6cc02fd",
   "metadata": {},
   "outputs": [
    {
     "data": {
      "text/plain": [
       "{2, 4, 6, 8, 10}"
      ]
     },
     "execution_count": 22,
     "metadata": {},
     "output_type": "execute_result"
    }
   ],
   "source": [
    "#Q27 Multiply all elements in a set by 2.\n",
    "a={1,2,3,4,5}\n",
    "b=set(x*2 for x in a)\n",
    "b"
   ]
  },
  {
   "cell_type": "code",
   "execution_count": 32,
   "id": "df3c41d1-47a4-4832-a809-580497a5a621",
   "metadata": {},
   "outputs": [
    {
     "data": {
      "text/plain": [
       "{2, 5, 6, 7, 8, 9}"
      ]
     },
     "execution_count": 32,
     "metadata": {},
     "output_type": "execute_result"
    }
   ],
   "source": [
    "#Q28. Create a set of random numbers.\n",
    "import random\n",
    "a=set()\n",
    "random_ = set(random.randint(1,10)for _ in range(10))\n",
    "a.update(random_)\n",
    "a"
   ]
  },
  {
   "cell_type": "code",
   "execution_count": 34,
   "id": "e209e88e-c25e-4ec3-a12f-34d339697ef6",
   "metadata": {},
   "outputs": [
    {
     "name": "stdout",
     "output_type": "stream",
     "text": [
      "set is empty\n"
     ]
    }
   ],
   "source": [
    "#Q29. Check if a set is empty.\n",
    "a=set()\n",
    "if len(a)==0:\n",
    "    print('set is empty')\n",
    "else:\n",
    "    print('set is not empty')"
   ]
  },
  {
   "cell_type": "code",
   "execution_count": 36,
   "id": "8f90f21d-3a69-49f1-85de-31c27ab62861",
   "metadata": {},
   "outputs": [
    {
     "name": "stdout",
     "output_type": "stream",
     "text": [
      "<class 'set'>\n",
      "Nested Set: {frozenset({1, 2, 3, 4, 5}), frozenset({6, 7, 8, 9, 10})}\n"
     ]
    }
   ],
   "source": [
    "#Q30.Create a nested set (hint: use frozenset).\n",
    "set1 = {1, 2, 3, 4, 5}\n",
    "set2 = {6, 7, 8, 9, 10}\n",
    "\n",
    "frozen_set1 = frozenset(set1)\n",
    "frozen_set2 = frozenset(set2)\n",
    "\n",
    "nested_set = {frozen_set1, frozen_set2}\n",
    "\n",
    "print(type(nested_set))\n",
    "print(\"Nested Set:\", nested_set)\n"
   ]
  },
  {
   "cell_type": "code",
   "execution_count": 2,
   "id": "b996a16b-c250-43a0-88ff-aaa2db413da2",
   "metadata": {},
   "outputs": [
    {
     "data": {
      "text/plain": [
       "{1, 2, 4, 5}"
      ]
     },
     "execution_count": 2,
     "metadata": {},
     "output_type": "execute_result"
    }
   ],
   "source": [
    "#Q31. Remove an element from a set using the discard method.\n",
    "s={1,2,3,4,5}\n",
    "s.discard(3)\n",
    "s"
   ]
  },
  {
   "cell_type": "code",
   "execution_count": 4,
   "id": "6060bf3f-8124-4c9f-ac40-6934bc32395d",
   "metadata": {},
   "outputs": [
    {
     "name": "stdout",
     "output_type": "stream",
     "text": [
      "Is set1 a subset of set2? False\n",
      "Is set2 a subset of set1? False\n",
      "Intersection: {8, 3, 4}\n",
      "Union: {1, 2, 3, 4, 5, 6, 7, 8}\n",
      "Elements in set1 but not in set2: {1, 2}\n",
      "Elements in set2 but not in set1: {5, 6, 7}\n"
     ]
    }
   ],
   "source": [
    "#Q32.Compare two sets.\n",
    "s1={1,2,3,4,8}\n",
    "s2={5,6,3,7,4,8}\n",
    "\n",
    "is_subset = s1.issubset(s2)\n",
    "\n",
    "is_superset = s1.issuperset(s2)\n",
    "\n",
    "intersection = s1.intersection(s2)\n",
    "\n",
    "union = s1.union(s2)\n",
    "\n",
    "difference1 = s1.difference(s2)\n",
    "\n",
    "difference2 = s2.difference(s1)\n",
    "\n",
    "\n",
    "print(\"Is set1 a subset of set2?\", is_subset)\n",
    "print(\"Is set2 a subset of set1?\", is_superset)\n",
    "print(\"Intersection:\", intersection)\n",
    "print(\"Union:\", union)\n",
    "print(\"Elements in set1 but not in set2:\", difference1)\n",
    "print(\"Elements in set2 but not in set1:\", difference2)"
   ]
  },
  {
   "cell_type": "code",
   "execution_count": 6,
   "id": "9a37233a-b19a-49cd-a2af-101e610bb8d6",
   "metadata": {},
   "outputs": [
    {
     "data": {
      "text/plain": [
       "{'A', 'h', 's', 'u', 'y'}"
      ]
     },
     "execution_count": 6,
     "metadata": {},
     "output_type": "execute_result"
    }
   ],
   "source": [
    "#Q33.Create a set from a string.\n",
    "a= 'Ayush'\n",
    "b=set(a)\n",
    "b"
   ]
  },
  {
   "cell_type": "code",
   "execution_count": 8,
   "id": "0a8c054a-a485-45a9-9ffe-d55332ead894",
   "metadata": {},
   "outputs": [
    {
     "name": "stdout",
     "output_type": "stream",
     "text": [
      "{1, 2, 3, 4}\n"
     ]
    }
   ],
   "source": [
    "#Q34.Convert a set of strings to a set of integers.\n",
    "s={'1','2','3','4'}\n",
    "int_set=set()\n",
    "for i in s:\n",
    "    int_value=int(i)\n",
    "    int_set.add(int_value)\n",
    "print(int_set)    \n",
    "\n"
   ]
  },
  {
   "cell_type": "code",
   "execution_count": 14,
   "id": "734a3e19-9c8b-47b5-a0d2-bfe2c615e224",
   "metadata": {},
   "outputs": [
    {
     "name": "stdout",
     "output_type": "stream",
     "text": [
      "{'1', '3', '2', '4'}\n"
     ]
    }
   ],
   "source": [
    "#Q35.Convert a set of integers to a set of strings.\n",
    "s={1, 2, 3, 4}\n",
    "str_set=set()\n",
    "for i in s:\n",
    "    str_value=str(i)\n",
    "    str_set.add(str_value)\n",
    "print(str_set)    "
   ]
  },
  {
   "cell_type": "code",
   "execution_count": 19,
   "id": "55b22c49-9bb1-4286-af4d-a264f545f99f",
   "metadata": {},
   "outputs": [
    {
     "name": "stdout",
     "output_type": "stream",
     "text": [
      "{1, 2, 3, 4}\n"
     ]
    }
   ],
   "source": [
    "#Q36.Create a set from a tuple.\n",
    "a=(1,2,3,4)\n",
    "req_set=set()\n",
    "for i in a:\n",
    "    int_value=int(i)\n",
    "    req_set.add(int_value)\n",
    "print(req_set)   \n",
    "# or\n",
    "# req_set=set(a)"
   ]
  },
  {
   "cell_type": "code",
   "execution_count": 17,
   "id": "baacfa0b-6294-420b-945f-58acec573e14",
   "metadata": {},
   "outputs": [
    {
     "data": {
      "text/plain": [
       "(1, 2, 3, 4)"
      ]
     },
     "execution_count": 17,
     "metadata": {},
     "output_type": "execute_result"
    }
   ],
   "source": [
    "#Q37.Convert a set to a tuple.\n",
    "s={1, 2, 3, 4}\n",
    "req_tuple=tuple(s)\n",
    "req_tuple\n"
   ]
  },
  {
   "cell_type": "code",
   "execution_count": 20,
   "id": "eb8d125d-7e2c-4885-b672-fad981045ecf",
   "metadata": {},
   "outputs": [
    {
     "data": {
      "text/plain": [
       "7"
      ]
     },
     "execution_count": 20,
     "metadata": {},
     "output_type": "execute_result"
    }
   ],
   "source": [
    "#Q38.Find the maximum value in a set.\n",
    "s={1,2,3,4,5,6,7}\n",
    "a=max(s)\n",
    "a"
   ]
  },
  {
   "cell_type": "code",
   "execution_count": 21,
   "id": "619bffc4-b175-47e4-967b-bbe06eaceddb",
   "metadata": {},
   "outputs": [
    {
     "data": {
      "text/plain": [
       "1"
      ]
     },
     "execution_count": 21,
     "metadata": {},
     "output_type": "execute_result"
    }
   ],
   "source": [
    "#Q39.Find the minimum value in a set.\n",
    "s={1,2,3,4,5,6,7,8}\n",
    "a=min(s)\n",
    "a"
   ]
  },
  {
   "cell_type": "code",
   "execution_count": 23,
   "id": "4eee4354-5e68-4a9c-92a0-8afbfe09431c",
   "metadata": {},
   "outputs": [
    {
     "name": "stdin",
     "output_type": "stream",
     "text": [
      "enter anything 12345678910\n"
     ]
    },
    {
     "data": {
      "text/plain": [
       "{'0', '1', '2', '3', '4', '5', '6', '7', '8', '9'}"
      ]
     },
     "execution_count": 23,
     "metadata": {},
     "output_type": "execute_result"
    }
   ],
   "source": [
    "#Q40.Create a set from user input.\n",
    "a=set(input(\"enter anything\"))\n",
    "a"
   ]
  },
  {
   "cell_type": "code",
   "execution_count": 27,
   "id": "44c4552b-518f-48ee-8510-f4732382d638",
   "metadata": {},
   "outputs": [
    {
     "name": "stdout",
     "output_type": "stream",
     "text": [
      "{2, 3}\n",
      "its not empty\n"
     ]
    }
   ],
   "source": [
    "#Q41.Check if the intersection of two sets is empty.\n",
    "s1={1,2,3,4}\n",
    "s2={3,2,5,6}\n",
    "intersect_=s1.intersection(s2)\n",
    "print(intersect_)\n",
    "if not intersect_:\n",
    "    print(\"its empty\")\n",
    "else:\n",
    "    print(\"its not empty\")\n",
    "    "
   ]
  },
  {
   "cell_type": "code",
   "execution_count": 31,
   "id": "7669c37b-8594-424c-a176-cd4f165847fb",
   "metadata": {},
   "outputs": [
    {
     "data": {
      "text/plain": [
       "{1, 2, 3, 5, 8}"
      ]
     },
     "execution_count": 31,
     "metadata": {},
     "output_type": "execute_result"
    }
   ],
   "source": [
    "#Q42.Create a set of the first 5 Fibonacci numbers.\n",
    "s=set()\n",
    "a,b=0,1\n",
    "for _ in range(0,6):\n",
    "    a,b=b,a+b\n",
    "    s.add(a)\n",
    "s  "
   ]
  },
  {
   "cell_type": "code",
   "execution_count": 37,
   "id": "7a07a73d-cce5-432a-81fd-338b3a48f3ce",
   "metadata": {},
   "outputs": [
    {
     "name": "stdout",
     "output_type": "stream",
     "text": [
      "[1, 2, 3, 4, 5, 6]\n",
      "<class 'list'>\n"
     ]
    }
   ],
   "source": [
    "#Q43.Remove duplicates from a list using sets.\n",
    "L1=[1,2,3,4,4,3,5,6]\n",
    "L2=list(set(L1))\n",
    "print(L2)\n",
    "print(type(L2))"
   ]
  },
  {
   "cell_type": "code",
   "execution_count": 39,
   "id": "bc1c7035-3040-4e0e-8051-76f36a069691",
   "metadata": {},
   "outputs": [
    {
     "name": "stdout",
     "output_type": "stream",
     "text": [
      "False\n"
     ]
    }
   ],
   "source": [
    "#Q44.Check if two sets have the same elements, regardless of their count.\n",
    "def same_element(s1,s2):\n",
    "        sort1=sorted(list(s1))\n",
    "        sort2=sorted(list(s2))\n",
    "        return sort1==sort2\n",
    "    \n",
    "s1={1,2,3,4,5}\n",
    "s2={4,5,6,7,8}\n",
    "req_result=same_element(s1,s2)\n",
    "print(req_result)"
   ]
  },
  {
   "cell_type": "code",
   "execution_count": 43,
   "id": "e5294107-9a60-4cf9-9649-6a47cb77651e",
   "metadata": {},
   "outputs": [
    {
     "name": "stdout",
     "output_type": "stream",
     "text": [
      "Set of the first 5 powers of 2: {1, 2, 4, 8, 16}\n"
     ]
    }
   ],
   "source": [
    "#Q45.Create a set of the first `n` powers of 2.\n",
    "n = 5\n",
    "\n",
    "set_of_power2 = { 2**i for i in range(n)}\n",
    "\n",
    "print(\"Set of the first\", n, \"powers of 2:\", set_of_power2)\n"
   ]
  },
  {
   "cell_type": "code",
   "execution_count": 48,
   "id": "9f2f7f19-43d4-446a-b703-71e4330b3d30",
   "metadata": {},
   "outputs": [
    {
     "name": "stdout",
     "output_type": "stream",
     "text": [
      "Common element is: [4]\n"
     ]
    }
   ],
   "source": [
    "#Q46. Find the common elements between a set and a list.\n",
    "s1={1,2,3,4}\n",
    "l=[4,5,6]\n",
    "# convert list to set\n",
    "s2=set(l)\n",
    "common_element=[]\n",
    "for i in s1:\n",
    "    if i in s2:\n",
    "        common_element.append(i)\n",
    "        print('Common element is:',common_element)\n",
    " "
   ]
  },
  {
   "cell_type": "code",
   "execution_count": null,
   "id": "2d024904-14d6-4e68-8783-8fc952dc4815",
   "metadata": {},
   "outputs": [],
   "source": [
    "#Q47.Create a set of the first `n` triangular numbers."
   ]
  },
  {
   "cell_type": "code",
   "execution_count": 49,
   "id": "1d84c787-ce65-4a2a-8ea3-9fca2ded9509",
   "metadata": {},
   "outputs": [
    {
     "data": {
      "text/plain": [
       "True"
      ]
     },
     "execution_count": 49,
     "metadata": {},
     "output_type": "execute_result"
    }
   ],
   "source": [
    "#Q48.Check if a set contains another set as a subset.\n",
    "s1={1,2,3,4}\n",
    "s2={3,4}\n",
    "is_subset=s2.issubset(s1)\n",
    "is_subset"
   ]
  },
  {
   "cell_type": "code",
   "execution_count": 65,
   "id": "9fd34a37-4908-4af9-8d85-8ea90979b2c2",
   "metadata": {},
   "outputs": [
    {
     "name": "stdout",
     "output_type": "stream",
     "text": [
      "{0, 1}\n"
     ]
    }
   ],
   "source": [
    "#Q49.Create a set of alternating 1s and 0s of length `n`.\n",
    "n=10\n",
    "req_set=set()\n",
    "for i in range(0,n):\n",
    "    if i%2==0:\n",
    "        req_set.add(1)\n",
    "    else:\n",
    "        req_set.add(0)     \n",
    "print(req_set)  "
   ]
  },
  {
   "cell_type": "code",
   "execution_count": null,
   "id": "e9fcc2fd-c707-4f66-8788-ed5056aa6d24",
   "metadata": {},
   "outputs": [],
   "source": [
    "# why it is not giving full set "
   ]
  },
  {
   "cell_type": "code",
   "execution_count": 67,
   "id": "76b433e3-9323-4bee-8d13-ed3b76cf113d",
   "metadata": {},
   "outputs": [
    {
     "name": "stdout",
     "output_type": "stream",
     "text": [
      "{1, 2, 3, 4, 5, 6, 7}\n"
     ]
    }
   ],
   "source": [
    "#Q50.Merge multiple sets into one.\n",
    "set1 = {1,2,3}\n",
    "set2 = {3,4,5}\n",
    "set3 = {5,6,7}\n",
    "\n",
    "req_set = set1.union(set2, set3)\n",
    "\n",
    "print(req_set)"
   ]
  }
 ],
 "metadata": {
  "kernelspec": {
   "display_name": "Python 3 (ipykernel)",
   "language": "python",
   "name": "python3"
  },
  "language_info": {
   "codemirror_mode": {
    "name": "ipython",
    "version": 3
   },
   "file_extension": ".py",
   "mimetype": "text/x-python",
   "name": "python",
   "nbconvert_exporter": "python",
   "pygments_lexer": "ipython3",
   "version": "3.10.8"
  }
 },
 "nbformat": 4,
 "nbformat_minor": 5
}
